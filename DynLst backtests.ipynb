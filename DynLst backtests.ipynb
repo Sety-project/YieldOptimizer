{
 "cells": [
  {
   "cell_type": "code",
   "execution_count": 1,
   "id": "6a392488",
   "metadata": {},
   "outputs": [],
   "source": [
    "from research.research_engine import build_ResearchEngine\n",
    "from strategies.vault_rebalancing import YieldStrategy\n",
    "from strategies.vault_backtest import VaultBacktestEngine\n",
    "import json\n",
    "import pandas as pd\n",
    "from copy import deepcopy"
   ]
  },
  {
   "cell_type": "code",
   "execution_count": 2,
   "id": "d1e1f6cb",
   "metadata": {},
   "outputs": [
    {
     "data": {
      "text/html": [
       "        <script type=\"text/javascript\">\n",
       "        window.PlotlyConfig = {MathJaxConfig: 'local'};\n",
       "        if (window.MathJax && window.MathJax.Hub && window.MathJax.Hub.Config) {window.MathJax.Hub.Config({SVG: {font: \"STIX-Web\"}});}\n",
       "        if (typeof require !== 'undefined') {\n",
       "        require.undef(\"plotly\");\n",
       "        requirejs.config({\n",
       "            paths: {\n",
       "                'plotly': ['https://cdn.plot.ly/plotly-2.25.2.min']\n",
       "            }\n",
       "        });\n",
       "        require(['plotly'], function(Plotly) {\n",
       "            window._Plotly = Plotly;\n",
       "        });\n",
       "        }\n",
       "        </script>\n",
       "        "
      ]
     },
     "metadata": {},
     "output_type": "display_data"
    }
   ],
   "source": [
    "import plotly.express as px\n",
    "import cufflinks as cf\n",
    "cf.go_offline()\n",
    "cf.set_config_file(offline=False, world_readable=True)"
   ]
  },
  {
   "cell_type": "code",
   "execution_count": 11,
   "id": "3d1dbac4",
   "metadata": {},
   "outputs": [],
   "source": [
    "parameters = {\n",
    "    \"input_data\": {\n",
    "        \"ResearchName\": \"defillama\",\n",
    "        \"dirpath\": [\"signal\",\"scrappers\",\"defillama_history\",\"data\",\"DynLst\"],\n",
    "        \"start_date\": \"2022-02-15T00:00:00\",\n",
    "        \"selected_instruments\": [\n",
    "            \"747c1d2a-c668-4682-b9f9-296708a3dd90\",\n",
    "            \"d4b3c522-6127-4b89-bedf-83641cdcd2eb\",\n",
    "            \"e6435aae-cbe9-4d26-ab2c-a4d533db9972\",\n",
    "            \"77020688-e1f9-443c-9388-e51ace15cc32\",\n",
    "            \"e880e828-ca59-4ec6-8d4f-27182a4dc23d\",\n",
    "            \"6d342d6a-9796-443e-8152-b94e8b6021fc\",\n",
    "            \"5ce23e7e-3800-4c9c-ad30-6db3db0515a1\",\n",
    "            \"42c02674-f7a2-4cb0-be3d-ade268838770\",\n",
    "            \"e378a7c2-6285-4993-9397-87ac9c8adc15\",\n",
    "            \"f1a22245-a1f1-4389-8ff2-dde4914b272d\",\n",
    "            \"4cc5df76-f81d-49fe-9e1e-4caa6a8dad0b\",\n",
    "            \"fc7701fc-e290-4606-a8be-9e4ba6c5f91a\",\n",
    "            \"c9873dab-0979-478c-b48c-3c3a0c935449\",\n",
    "            \"e72916f7-a2d1-47ad-a4b9-2b054337cfd6\" # instadapp\n",
    "        ]\n",
    "    },\n",
    "    \"run_parameters\": {\n",
    "        \"unit_test\": False,\n",
    "        \"models\": {\n",
    "            \"haircut_apy\": {\n",
    "                \"TrivialEwmPredictor\": {\n",
    "                    \"params\": {\"halflife\": \"7d\", \"cap\": 0.3}\n",
    "                }\n",
    "            }\n",
    "        }\n",
    "    },\n",
    "    \"feature_map\": {\n",
    "        \"haircut_apy\": {\n",
    "            \"ewma_expansion\": {\n",
    "                \"windows\":[2]},\n",
    "        }\n",
    "    },\n",
    "    \"label_map\": {\n",
    "        \"haircut_apy\": {\n",
    "            \"horizons\": [7]\n",
    "        }\n",
    "    },\n",
    "    \"strategy\": {\n",
    "        \"initial_wealth\": 100,\n",
    "        \"cost\": [0.001],\n",
    "        \"verbose\": \"interim\",\n",
    "        \"warm_start\": False,\n",
    "        \"finite_diff_rel_step\": 1e-2,\n",
    "        \"ftol\": 1e-2\n",
    "    },\n",
    "    \"backtest\": {\n",
    "        \"start_date\": \"2023-02-15T00:00:00\",\n",
    "        \"end_date\": \"2023-08-15T00:00:00\"\n",
    "    }\n",
    "}"
   ]
  },
  {
   "cell_type": "code",
   "execution_count": 12,
   "id": "8eaaf850",
   "metadata": {},
   "outputs": [
    {
     "data": {
      "text/plain": [
       "{'747c1d2a-c668-4682-b9f9-296708a3dd90': 'lido_STETH',\n",
       " 'd4b3c522-6127-4b89-bedf-83641cdcd2eb': 'rocket-pool_RETH',\n",
       " 'e6435aae-cbe9-4d26-ab2c-a4d533db9972': 'aave-v3_WSTETH',\n",
       " '77020688-e1f9-443c-9388-e51ace15cc32': 'frax-ether_SFRXETH',\n",
       " 'e880e828-ca59-4ec6-8d4f-27182a4dc23d': 'aave-v3_WETH',\n",
       " '6d342d6a-9796-443e-8152-b94e8b6021fc': 'convex-finance_ETH-FRXETH',\n",
       " '5ce23e7e-3800-4c9c-ad30-6db3db0515a1': 'convex-finance_ETH-STETH',\n",
       " '42c02674-f7a2-4cb0-be3d-ade268838770': 'balancer-v2_RETH-WETH',\n",
       " 'e378a7c2-6285-4993-9397-87ac9c8adc15': 'convex-finance_ETH-STETH',\n",
       " 'f1a22245-a1f1-4389-8ff2-dde4914b272d': 'aave-v3_RETH',\n",
       " '4cc5df76-f81d-49fe-9e1e-4caa6a8dad0b': 'balancer-v2_WSTETH-WETH',\n",
       " 'fc7701fc-e290-4606-a8be-9e4ba6c5f91a': 'convex-finance_ETH-RETH',\n",
       " 'c9873dab-0979-478c-b48c-3c3a0c935449': 'convex-finance_STETH-FRXETH'}"
      ]
     },
     "execution_count": 12,
     "metadata": {},
     "output_type": "execute_result"
    }
   ],
   "source": [
    "metadata = pd.read_csv(\"C:/Users/david/signal/scrappers/defillama_history/data/DynLst_pool_metadata.csv\")\n",
    "pool_map = metadata.loc[metadata['pool'].isin(parameters['input_data']['selected_instruments']),['pool','project','symbol']].set_index('pool').T.to_dict()\n",
    "pool_map = {key: '{}_{}'.format(x['project'], x['symbol']) for key, x in pool_map.items()}\n",
    "index_map = {f'weight_{i}': f'w_{value}' for i, value in enumerate(pool_map.values())}\n",
    "index_map |= {f'yield_{i}': f'y_{value}' for i, value in enumerate(pool_map.values())} \n",
    "pool_map"
   ]
  },
  {
   "cell_type": "code",
   "execution_count": 5,
   "id": "50235c12",
   "metadata": {},
   "outputs": [
    {
     "name": "stdout",
     "output_type": "stream",
     "text": [
      "fit engine\n"
     ]
    }
   ],
   "source": [
    "engine = build_ResearchEngine(parameters)\n",
    "data = pd.DataFrame(engine.performance)\n",
    "data = data.ffill().dropna()"
   ]
  },
  {
   "cell_type": "code",
   "execution_count": 6,
   "id": "b6a2d572",
   "metadata": {},
   "outputs": [
    {
     "ename": "ValueError",
     "evalue": "Found array with 0 sample(s) (shape=(0, 13)) while a minimum of 1 is required by StandardScaler.",
     "output_type": "error",
     "traceback": [
      "\u001b[1;31m---------------------------------------------------------------------------\u001b[0m",
      "\u001b[1;31mValueError\u001b[0m                                Traceback (most recent call last)",
      "\u001b[1;32m~\\AppData\\Local\\Temp\\ipykernel_52008\\2268146875.py\u001b[0m in \u001b[0;36m<cell line: 29>\u001b[1;34m()\u001b[0m\n\u001b[0;32m     28\u001b[0m \u001b[0mresult\u001b[0m \u001b[1;33m=\u001b[0m \u001b[0mdict\u001b[0m\u001b[1;33m(\u001b[0m\u001b[1;33m)\u001b[0m\u001b[1;33m\u001b[0m\u001b[1;33m\u001b[0m\u001b[0m\n\u001b[0;32m     29\u001b[0m \u001b[1;32mfor\u001b[0m \u001b[0mname\u001b[0m\u001b[1;33m,\u001b[0m \u001b[0mcur_params\u001b[0m \u001b[1;32min\u001b[0m \u001b[0mparameter_dict\u001b[0m\u001b[1;33m.\u001b[0m\u001b[0mitems\u001b[0m\u001b[1;33m(\u001b[0m\u001b[1;33m)\u001b[0m\u001b[1;33m:\u001b[0m\u001b[1;33m\u001b[0m\u001b[1;33m\u001b[0m\u001b[0m\n\u001b[1;32m---> 30\u001b[1;33m     \u001b[0mengine\u001b[0m \u001b[1;33m=\u001b[0m \u001b[0mbuild_ResearchEngine\u001b[0m\u001b[1;33m(\u001b[0m\u001b[0mcur_params\u001b[0m\u001b[1;33m)\u001b[0m\u001b[1;33m\u001b[0m\u001b[1;33m\u001b[0m\u001b[0m\n\u001b[0m\u001b[0;32m     31\u001b[0m     vault_rebalancing = YieldStrategy(cur_params['strategy'],\n\u001b[0;32m     32\u001b[0m                                       \u001b[0mfeatures\u001b[0m\u001b[1;33m=\u001b[0m\u001b[0mdata\u001b[0m\u001b[1;33m,\u001b[0m\u001b[1;33m\u001b[0m\u001b[1;33m\u001b[0m\u001b[0m\n",
      "\u001b[1;32m~\\singularity\\midfreq\\research\\research_engine.py\u001b[0m in \u001b[0;36mbuild_ResearchEngine\u001b[1;34m(input_parameters)\u001b[0m\n\u001b[0;32m    622\u001b[0m         \u001b[0mresult\u001b[0m\u001b[1;33m.\u001b[0m\u001b[0mperformance\u001b[0m\u001b[1;33m[\u001b[0m\u001b[0minstrument\u001b[0m\u001b[1;33m]\u001b[0m \u001b[1;33m=\u001b[0m \u001b[0mfile_data\u001b[0m\u001b[1;33m[\u001b[0m\u001b[0minstrument\u001b[0m\u001b[1;33m]\u001b[0m\u001b[1;33m[\u001b[0m\u001b[1;34m'haircut_apy'\u001b[0m\u001b[1;33m]\u001b[0m\u001b[1;33m\u001b[0m\u001b[1;33m\u001b[0m\u001b[0m\n\u001b[0;32m    623\u001b[0m \u001b[1;33m\u001b[0m\u001b[0m\n\u001b[1;32m--> 624\u001b[1;33m     result.build_X_Y(file_data, parameters['feature_map'], parameters['label_map'],\n\u001b[0m\u001b[0;32m    625\u001b[0m                      unit_test=parameters['run_parameters']['unit_test'])\n\u001b[0;32m    626\u001b[0m     \u001b[0mresult\u001b[0m\u001b[1;33m.\u001b[0m\u001b[0mfit\u001b[0m\u001b[1;33m(\u001b[0m\u001b[1;33m)\u001b[0m\u001b[1;33m\u001b[0m\u001b[1;33m\u001b[0m\u001b[0m\n",
      "\u001b[1;32m~\\singularity\\midfreq\\research\\research_engine.py\u001b[0m in \u001b[0;36mbuild_X_Y\u001b[1;34m(self, file_data, feature_map, label_map, unit_test)\u001b[0m\n\u001b[0;32m    355\u001b[0m             \u001b[0mX_Y\u001b[0m \u001b[1;33m=\u001b[0m \u001b[0mpd\u001b[0m\u001b[1;33m.\u001b[0m\u001b[0mconcat\u001b[0m\u001b[1;33m(\u001b[0m\u001b[0mself\u001b[0m\u001b[1;33m.\u001b[0m\u001b[0mtemp_feature_data\u001b[0m \u001b[1;33m|\u001b[0m \u001b[0mself\u001b[0m\u001b[1;33m.\u001b[0m\u001b[0mtemp_label_data\u001b[0m\u001b[1;33m,\u001b[0m \u001b[0maxis\u001b[0m\u001b[1;33m=\u001b[0m\u001b[1;36m1\u001b[0m\u001b[1;33m)\u001b[0m\u001b[1;33m.\u001b[0m\u001b[0mdropna\u001b[0m\u001b[1;33m(\u001b[0m\u001b[1;33m)\u001b[0m\u001b[1;33m\u001b[0m\u001b[1;33m\u001b[0m\u001b[0m\n\u001b[0;32m    356\u001b[0m             \u001b[0mX_Y\u001b[0m\u001b[1;33m.\u001b[0m\u001b[0mcolumns\u001b[0m\u001b[1;33m.\u001b[0m\u001b[0mrename\u001b[0m\u001b[1;33m(\u001b[0m\u001b[1;33m[\u001b[0m\u001b[1;34m'instrument'\u001b[0m\u001b[1;33m,\u001b[0m \u001b[1;34m'feature'\u001b[0m\u001b[1;33m,\u001b[0m \u001b[1;34m'window'\u001b[0m\u001b[1;33m]\u001b[0m\u001b[1;33m,\u001b[0m \u001b[0minplace\u001b[0m\u001b[1;33m=\u001b[0m\u001b[1;32mTrue\u001b[0m\u001b[1;33m)\u001b[0m\u001b[1;33m\u001b[0m\u001b[1;33m\u001b[0m\u001b[0m\n\u001b[1;32m--> 357\u001b[1;33m             \u001b[0mself\u001b[0m\u001b[1;33m.\u001b[0m\u001b[0mX\u001b[0m \u001b[1;33m=\u001b[0m \u001b[0mnormalize\u001b[0m\u001b[1;33m(\u001b[0m\u001b[0mX_Y\u001b[0m\u001b[1;33m[\u001b[0m\u001b[0mself\u001b[0m\u001b[1;33m.\u001b[0m\u001b[0mtemp_feature_data\u001b[0m\u001b[1;33m.\u001b[0m\u001b[0mkeys\u001b[0m\u001b[1;33m(\u001b[0m\u001b[1;33m)\u001b[0m\u001b[1;33m]\u001b[0m\u001b[1;33m)\u001b[0m\u001b[1;33m\u001b[0m\u001b[1;33m\u001b[0m\u001b[0m\n\u001b[0m\u001b[0;32m    358\u001b[0m             \u001b[0mself\u001b[0m\u001b[1;33m.\u001b[0m\u001b[0mY\u001b[0m \u001b[1;33m=\u001b[0m \u001b[0mX_Y\u001b[0m\u001b[1;33m[\u001b[0m\u001b[0mself\u001b[0m\u001b[1;33m.\u001b[0m\u001b[0mtemp_label_data\u001b[0m\u001b[1;33m.\u001b[0m\u001b[0mkeys\u001b[0m\u001b[1;33m(\u001b[0m\u001b[1;33m)\u001b[0m\u001b[1;33m]\u001b[0m\u001b[1;33m\u001b[0m\u001b[1;33m\u001b[0m\u001b[0m\n\u001b[0;32m    359\u001b[0m \u001b[1;33m\u001b[0m\u001b[0m\n",
      "\u001b[1;32m~\\singularity\\midfreq\\research\\research_engine.py\u001b[0m in \u001b[0;36mnormalize\u001b[1;34m(df)\u001b[0m\n\u001b[0;32m     31\u001b[0m     return pd.DataFrame(index=df.index,\n\u001b[0;32m     32\u001b[0m                         \u001b[0mcolumns\u001b[0m\u001b[1;33m=\u001b[0m\u001b[0mdf\u001b[0m\u001b[1;33m.\u001b[0m\u001b[0mcolumns\u001b[0m\u001b[1;33m,\u001b[0m\u001b[1;33m\u001b[0m\u001b[1;33m\u001b[0m\u001b[0m\n\u001b[1;32m---> 33\u001b[1;33m                         data=StandardScaler().fit_transform(df))\n\u001b[0m\u001b[0;32m     34\u001b[0m \u001b[1;33m\u001b[0m\u001b[0m\n\u001b[0;32m     35\u001b[0m \u001b[1;32mdef\u001b[0m \u001b[0mremove_duplicate_rows\u001b[0m\u001b[1;33m(\u001b[0m\u001b[0mdf\u001b[0m\u001b[1;33m)\u001b[0m\u001b[1;33m:\u001b[0m\u001b[1;33m\u001b[0m\u001b[1;33m\u001b[0m\u001b[0m\n",
      "\u001b[1;32m~\\singularity\\midfreq\\venv\\lib\\site-packages\\sklearn\\base.py\u001b[0m in \u001b[0;36mfit_transform\u001b[1;34m(self, X, y, **fit_params)\u001b[0m\n\u001b[0;32m    865\u001b[0m         \u001b[1;32mif\u001b[0m \u001b[0my\u001b[0m \u001b[1;32mis\u001b[0m \u001b[1;32mNone\u001b[0m\u001b[1;33m:\u001b[0m\u001b[1;33m\u001b[0m\u001b[1;33m\u001b[0m\u001b[0m\n\u001b[0;32m    866\u001b[0m             \u001b[1;31m# fit method of arity 1 (unsupervised transformation)\u001b[0m\u001b[1;33m\u001b[0m\u001b[1;33m\u001b[0m\u001b[1;33m\u001b[0m\u001b[0m\n\u001b[1;32m--> 867\u001b[1;33m             \u001b[1;32mreturn\u001b[0m \u001b[0mself\u001b[0m\u001b[1;33m.\u001b[0m\u001b[0mfit\u001b[0m\u001b[1;33m(\u001b[0m\u001b[0mX\u001b[0m\u001b[1;33m,\u001b[0m \u001b[1;33m**\u001b[0m\u001b[0mfit_params\u001b[0m\u001b[1;33m)\u001b[0m\u001b[1;33m.\u001b[0m\u001b[0mtransform\u001b[0m\u001b[1;33m(\u001b[0m\u001b[0mX\u001b[0m\u001b[1;33m)\u001b[0m\u001b[1;33m\u001b[0m\u001b[1;33m\u001b[0m\u001b[0m\n\u001b[0m\u001b[0;32m    868\u001b[0m         \u001b[1;32melse\u001b[0m\u001b[1;33m:\u001b[0m\u001b[1;33m\u001b[0m\u001b[1;33m\u001b[0m\u001b[0m\n\u001b[0;32m    869\u001b[0m             \u001b[1;31m# fit method of arity 2 (supervised transformation)\u001b[0m\u001b[1;33m\u001b[0m\u001b[1;33m\u001b[0m\u001b[1;33m\u001b[0m\u001b[0m\n",
      "\u001b[1;32m~\\singularity\\midfreq\\venv\\lib\\site-packages\\sklearn\\preprocessing\\_data.py\u001b[0m in \u001b[0;36mfit\u001b[1;34m(self, X, y, sample_weight)\u001b[0m\n\u001b[0;32m    807\u001b[0m         \u001b[1;31m# Reset internal state before fitting\u001b[0m\u001b[1;33m\u001b[0m\u001b[1;33m\u001b[0m\u001b[1;33m\u001b[0m\u001b[0m\n\u001b[0;32m    808\u001b[0m         \u001b[0mself\u001b[0m\u001b[1;33m.\u001b[0m\u001b[0m_reset\u001b[0m\u001b[1;33m(\u001b[0m\u001b[1;33m)\u001b[0m\u001b[1;33m\u001b[0m\u001b[1;33m\u001b[0m\u001b[0m\n\u001b[1;32m--> 809\u001b[1;33m         \u001b[1;32mreturn\u001b[0m \u001b[0mself\u001b[0m\u001b[1;33m.\u001b[0m\u001b[0mpartial_fit\u001b[0m\u001b[1;33m(\u001b[0m\u001b[0mX\u001b[0m\u001b[1;33m,\u001b[0m \u001b[0my\u001b[0m\u001b[1;33m,\u001b[0m \u001b[0msample_weight\u001b[0m\u001b[1;33m)\u001b[0m\u001b[1;33m\u001b[0m\u001b[1;33m\u001b[0m\u001b[0m\n\u001b[0m\u001b[0;32m    810\u001b[0m \u001b[1;33m\u001b[0m\u001b[0m\n\u001b[0;32m    811\u001b[0m     \u001b[1;32mdef\u001b[0m \u001b[0mpartial_fit\u001b[0m\u001b[1;33m(\u001b[0m\u001b[0mself\u001b[0m\u001b[1;33m,\u001b[0m \u001b[0mX\u001b[0m\u001b[1;33m,\u001b[0m \u001b[0my\u001b[0m\u001b[1;33m=\u001b[0m\u001b[1;32mNone\u001b[0m\u001b[1;33m,\u001b[0m \u001b[0msample_weight\u001b[0m\u001b[1;33m=\u001b[0m\u001b[1;32mNone\u001b[0m\u001b[1;33m)\u001b[0m\u001b[1;33m:\u001b[0m\u001b[1;33m\u001b[0m\u001b[1;33m\u001b[0m\u001b[0m\n",
      "\u001b[1;32m~\\singularity\\midfreq\\venv\\lib\\site-packages\\sklearn\\preprocessing\\_data.py\u001b[0m in \u001b[0;36mpartial_fit\u001b[1;34m(self, X, y, sample_weight)\u001b[0m\n\u001b[0;32m    842\u001b[0m         \"\"\"\n\u001b[0;32m    843\u001b[0m         \u001b[0mfirst_call\u001b[0m \u001b[1;33m=\u001b[0m \u001b[1;32mnot\u001b[0m \u001b[0mhasattr\u001b[0m\u001b[1;33m(\u001b[0m\u001b[0mself\u001b[0m\u001b[1;33m,\u001b[0m \u001b[1;34m\"n_samples_seen_\"\u001b[0m\u001b[1;33m)\u001b[0m\u001b[1;33m\u001b[0m\u001b[1;33m\u001b[0m\u001b[0m\n\u001b[1;32m--> 844\u001b[1;33m         X = self._validate_data(\n\u001b[0m\u001b[0;32m    845\u001b[0m             \u001b[0mX\u001b[0m\u001b[1;33m,\u001b[0m\u001b[1;33m\u001b[0m\u001b[1;33m\u001b[0m\u001b[0m\n\u001b[0;32m    846\u001b[0m             \u001b[0maccept_sparse\u001b[0m\u001b[1;33m=\u001b[0m\u001b[1;33m(\u001b[0m\u001b[1;34m\"csr\"\u001b[0m\u001b[1;33m,\u001b[0m \u001b[1;34m\"csc\"\u001b[0m\u001b[1;33m)\u001b[0m\u001b[1;33m,\u001b[0m\u001b[1;33m\u001b[0m\u001b[1;33m\u001b[0m\u001b[0m\n",
      "\u001b[1;32m~\\singularity\\midfreq\\venv\\lib\\site-packages\\sklearn\\base.py\u001b[0m in \u001b[0;36m_validate_data\u001b[1;34m(self, X, y, reset, validate_separately, **check_params)\u001b[0m\n\u001b[0;32m    575\u001b[0m             \u001b[1;32mraise\u001b[0m \u001b[0mValueError\u001b[0m\u001b[1;33m(\u001b[0m\u001b[1;34m\"Validation should be done on X, y or both.\"\u001b[0m\u001b[1;33m)\u001b[0m\u001b[1;33m\u001b[0m\u001b[1;33m\u001b[0m\u001b[0m\n\u001b[0;32m    576\u001b[0m         \u001b[1;32melif\u001b[0m \u001b[1;32mnot\u001b[0m \u001b[0mno_val_X\u001b[0m \u001b[1;32mand\u001b[0m \u001b[0mno_val_y\u001b[0m\u001b[1;33m:\u001b[0m\u001b[1;33m\u001b[0m\u001b[1;33m\u001b[0m\u001b[0m\n\u001b[1;32m--> 577\u001b[1;33m             \u001b[0mX\u001b[0m \u001b[1;33m=\u001b[0m \u001b[0mcheck_array\u001b[0m\u001b[1;33m(\u001b[0m\u001b[0mX\u001b[0m\u001b[1;33m,\u001b[0m \u001b[0minput_name\u001b[0m\u001b[1;33m=\u001b[0m\u001b[1;34m\"X\"\u001b[0m\u001b[1;33m,\u001b[0m \u001b[1;33m**\u001b[0m\u001b[0mcheck_params\u001b[0m\u001b[1;33m)\u001b[0m\u001b[1;33m\u001b[0m\u001b[1;33m\u001b[0m\u001b[0m\n\u001b[0m\u001b[0;32m    578\u001b[0m             \u001b[0mout\u001b[0m \u001b[1;33m=\u001b[0m \u001b[0mX\u001b[0m\u001b[1;33m\u001b[0m\u001b[1;33m\u001b[0m\u001b[0m\n\u001b[0;32m    579\u001b[0m         \u001b[1;32melif\u001b[0m \u001b[0mno_val_X\u001b[0m \u001b[1;32mand\u001b[0m \u001b[1;32mnot\u001b[0m \u001b[0mno_val_y\u001b[0m\u001b[1;33m:\u001b[0m\u001b[1;33m\u001b[0m\u001b[1;33m\u001b[0m\u001b[0m\n",
      "\u001b[1;32m~\\singularity\\midfreq\\venv\\lib\\site-packages\\sklearn\\utils\\validation.py\u001b[0m in \u001b[0;36mcheck_array\u001b[1;34m(array, accept_sparse, accept_large_sparse, dtype, order, copy, force_all_finite, ensure_2d, allow_nd, ensure_min_samples, ensure_min_features, estimator, input_name)\u001b[0m\n\u001b[0;32m    907\u001b[0m         \u001b[0mn_samples\u001b[0m \u001b[1;33m=\u001b[0m \u001b[0m_num_samples\u001b[0m\u001b[1;33m(\u001b[0m\u001b[0marray\u001b[0m\u001b[1;33m)\u001b[0m\u001b[1;33m\u001b[0m\u001b[1;33m\u001b[0m\u001b[0m\n\u001b[0;32m    908\u001b[0m         \u001b[1;32mif\u001b[0m \u001b[0mn_samples\u001b[0m \u001b[1;33m<\u001b[0m \u001b[0mensure_min_samples\u001b[0m\u001b[1;33m:\u001b[0m\u001b[1;33m\u001b[0m\u001b[1;33m\u001b[0m\u001b[0m\n\u001b[1;32m--> 909\u001b[1;33m             raise ValueError(\n\u001b[0m\u001b[0;32m    910\u001b[0m                 \u001b[1;34m\"Found array with %d sample(s) (shape=%s) while a\"\u001b[0m\u001b[1;33m\u001b[0m\u001b[1;33m\u001b[0m\u001b[0m\n\u001b[0;32m    911\u001b[0m                 \u001b[1;34m\" minimum of %d is required%s.\"\u001b[0m\u001b[1;33m\u001b[0m\u001b[1;33m\u001b[0m\u001b[0m\n",
      "\u001b[1;31mValueError\u001b[0m: Found array with 0 sample(s) (shape=(0, 13)) while a minimum of 1 is required by StandardScaler."
     ]
    }
   ],
   "source": [
    "parameter_grid = {\"cap\": [100],\n",
    "                  \"haflife\": [\"7d\",\"10d\", \"14d\",\"21d\"],\n",
    "                  \"cost\": [0.001],\n",
    "                  \"assumed_holding_days\": [5,7,10,14,21,30]}\n",
    "parameter_grid = {\"cap\": [100],\n",
    "                  \"haflife\": [\"7d\"],\n",
    "                  \"cost\": [0.001],\n",
    "                  \"assumed_holding_days\": [90]}\n",
    "\n",
    "# create parameters_list as a list of dicts from parameter_grid\n",
    "original_parameter = parameters\n",
    "parameter_dict = dict()\n",
    "for cap in parameter_grid[\"cap\"]:\n",
    "    for haflife in parameter_grid[\"haflife\"]:\n",
    "        for cost in parameter_grid[\"cost\"]:\n",
    "            for assumed_holding_days in parameter_grid[\"assumed_holding_days\"]:\n",
    "                new_parameter = deepcopy(original_parameter)\n",
    "                new_parameter[\"run_parameters\"][\"models\"][\"haircut_apy\"][\"TrivialEwmPredictor\"][\"params\"]['cap'] = cap\n",
    "                new_parameter[\"run_parameters\"][\"models\"][\"haircut_apy\"][\"TrivialEwmPredictor\"][\"params\"]['halflife'] = haflife\n",
    "                new_parameter['strategy']['cost'] = cost\n",
    "                new_parameter[\"label_map\"][\"haircut_apy\"][\"horizons\"] = [assumed_holding_days]\n",
    "\n",
    "                name = (cap, haflife, cost, assumed_holding_days)\n",
    "\n",
    "                parameter_dict[name]= new_parameter\n",
    "\n",
    "backtest = VaultBacktestEngine(parameters['backtest'])\n",
    "result = dict()\n",
    "for name, cur_params in parameter_dict.items():\n",
    "    engine = build_ResearchEngine(cur_params)\n",
    "    vault_rebalancing = YieldStrategy(cur_params['strategy'],\n",
    "                                      features=data,\n",
    "                                      research_engine=engine)\n",
    "    result[name] = backtest.run(vault_rebalancing)"
   ]
  },
  {
   "cell_type": "code",
   "execution_count": null,
   "id": "9221cd76",
   "metadata": {},
   "outputs": [],
   "source": [
    "result[(100, '7d', 0.001, 30)]['weights'].T.rename(columns=index_map).iplot()"
   ]
  },
  {
   "cell_type": "code",
   "execution_count": null,
   "id": "448d3698",
   "metadata": {},
   "outputs": [],
   "source": [
    "result[(100, '7d', 0.001, 30)]['yields'].T.rename(columns=index_map).iplot()"
   ]
  },
  {
   "cell_type": "code",
   "execution_count": null,
   "id": "dd5eb8cc",
   "metadata": {},
   "outputs": [],
   "source": []
  }
 ],
 "metadata": {
  "kernelspec": {
   "display_name": "midfreq",
   "language": "python",
   "name": "midfreq"
  },
  "language_info": {
   "codemirror_mode": {
    "name": "ipython",
    "version": 3
   },
   "file_extension": ".py",
   "mimetype": "text/x-python",
   "name": "python",
   "nbconvert_exporter": "python",
   "pygments_lexer": "ipython3",
   "version": "3.9.5"
  }
 },
 "nbformat": 4,
 "nbformat_minor": 5
}
