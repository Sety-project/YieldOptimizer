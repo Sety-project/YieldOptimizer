{
 "cells": [
  {
   "cell_type": "markdown",
   "id": "1dc7e7dd",
   "metadata": {},
   "source": [
    "# imports.."
   ]
  },
  {
   "cell_type": "code",
   "execution_count": 1,
   "id": "f5661e4d",
   "metadata": {},
   "outputs": [],
   "source": [
    "from research.research_engine import build_ResearchEngine\n",
    "from strategies.vault_rebalancing import YieldStrategy\n",
    "from strategies.vault_backtest import VaultBacktestEngine\n",
    "import json\n",
    "import yaml\n",
    "import pandas as pd\n",
    "from copy import deepcopy"
   ]
  },
  {
   "cell_type": "code",
   "execution_count": 2,
   "id": "ddbc4a15",
   "metadata": {},
   "outputs": [
    {
     "data": {
      "text/html": [
       "        <script type=\"text/javascript\">\n",
       "        window.PlotlyConfig = {MathJaxConfig: 'local'};\n",
       "        if (window.MathJax && window.MathJax.Hub && window.MathJax.Hub.Config) {window.MathJax.Hub.Config({SVG: {font: \"STIX-Web\"}});}\n",
       "        if (typeof require !== 'undefined') {\n",
       "        require.undef(\"plotly\");\n",
       "        requirejs.config({\n",
       "            paths: {\n",
       "                'plotly': ['https://cdn.plot.ly/plotly-2.25.2.min']\n",
       "            }\n",
       "        });\n",
       "        require(['plotly'], function(Plotly) {\n",
       "            window._Plotly = Plotly;\n",
       "        });\n",
       "        }\n",
       "        </script>\n",
       "        "
      ]
     },
     "metadata": {},
     "output_type": "display_data"
    }
   ],
   "source": [
    "import seaborn as sns\n",
    "import matplotlib.pyplot as plt\n",
    "%matplotlib inline\n",
    "import plotly.express as px\n",
    "from plotly.subplots import make_subplots\n",
    "import cufflinks as cf\n",
    "cf.go_offline()\n",
    "cf.set_config_file(offline=False, world_readable=True)"
   ]
  },
  {
   "cell_type": "markdown",
   "id": "a79ef0a2",
   "metadata": {},
   "source": [
    "# load data"
   ]
  },
  {
   "cell_type": "code",
   "execution_count": 3,
   "id": "a0308495",
   "metadata": {},
   "outputs": [
    {
     "data": {
      "text/plain": [
       "{'747c1d2a-c668-4682-b9f9-296708a3dd90': 'lido_STETH',\n",
       " 'd4b3c522-6127-4b89-bedf-83641cdcd2eb': 'rocket-pool_RETH',\n",
       " 'e6435aae-cbe9-4d26-ab2c-a4d533db9972': 'aave-v3_WSTETH',\n",
       " '77020688-e1f9-443c-9388-e51ace15cc32': 'frax-ether_SFRXETH',\n",
       " '5ce23e7e-3800-4c9c-ad30-6db3db0515a1': 'convex-finance_ETH-STETH',\n",
       " 'e72916f7-a2d1-47ad-a4b9-2b054337cfd6': 'instadapp_ETH',\n",
       " '42c02674-f7a2-4cb0-be3d-ade268838770': 'balancer-v2_RETH-WETH',\n",
       " 'e378a7c2-6285-4993-9397-87ac9c8adc15': 'convex-finance_ETH-STETH',\n",
       " 'f1a22245-a1f1-4389-8ff2-dde4914b272d': 'aave-v3_RETH',\n",
       " '4cc5df76-f81d-49fe-9e1e-4caa6a8dad0b': 'balancer-v2_WSTETH-WETH',\n",
       " 'fc7701fc-e290-4606-a8be-9e4ba6c5f91a': 'convex-finance_ETH-RETH',\n",
       " 'c9873dab-0979-478c-b48c-3c3a0c935449': 'convex-finance_STETH-FRXETH'}"
      ]
     },
     "execution_count": 3,
     "metadata": {},
     "output_type": "execute_result"
    }
   ],
   "source": [
    "metadata = pd.read_csv(\"C:/Users/david/singularity/midfreq/scrappers/defillama_history/data/DynLst_pool_metadata.csv\")\n",
    "with open(\"C:/Users/david/singularity/midfreq/config/dynlst.yaml\") as file:\n",
    "    parameters= yaml.safe_load(file)\n",
    "pool_map = metadata.loc[metadata['pool'].isin(parameters['input_data']['selected_instruments']),['pool','project','symbol']].set_index('pool').T.to_dict()\n",
    "pool_map = {key: '{}_{}'.format(x['project'], x['symbol']) for key, x in pool_map.items()}\n",
    "index_map = {f'weight_{i}': f'w_{value}' for i, value in enumerate(pool_map.values())}\n",
    "index_map |= {f'yield_{i}': f'y_{value}' for i, value in enumerate(pool_map.values())} \n",
    "pool_map"
   ]
  },
  {
   "cell_type": "code",
   "execution_count": 11,
   "id": "b046315d",
   "metadata": {},
   "outputs": [
    {
     "data": {
      "text/plain": [
       "array([ 1, 10, 30], dtype=int64)"
      ]
     },
     "execution_count": 11,
     "metadata": {},
     "output_type": "execute_result"
    }
   ],
   "source": [
    "grid = pd.read_csv(\"C:/Users/david/singularity/midfreq/scrappers/defillama_history/data/archive/gridwith10.csv\")\n",
    "grid['tx_cost*2'].iloc[0] = 0.001\n",
    "all_index = {col: grid[col].unique() for col in grid.columns}\n",
    "grid.columns\n",
    "all_index['assumed_holding_days']"
   ]
  },
  {
   "cell_type": "markdown",
   "id": "f341e60f",
   "metadata": {},
   "source": [
    "### typical params backest"
   ]
  },
  {
   "cell_type": "code",
   "execution_count": 14,
   "id": "b156e430",
   "metadata": {},
   "outputs": [
    {
     "data": {
      "application/vnd.plotly.v1+json": {
       "config": {
        "plotlyServerURL": "https://plot.ly"
       },
       "data": [
        {
         "hovertemplate": "variable=wealth<br>index=%{x}<br>value=%{y}<extra></extra>",
         "legendgroup": "wealth",
         "line": {
          "dash": "solid"
         },
         "marker": {
          "symbol": "circle"
         },
         "mode": "lines",
         "name": "wealth",
         "showlegend": true,
         "type": "scattergl",
         "x": [
          0,
          1,
          2,
          3,
          4,
          5,
          6,
          7,
          8,
          9,
          10,
          11,
          12,
          13,
          14,
          15,
          16,
          17,
          18,
          19,
          20,
          21,
          22,
          23,
          24,
          25,
          26,
          27,
          28,
          29,
          30,
          31,
          32,
          33,
          34,
          35,
          36,
          37,
          38,
          39,
          40,
          41,
          42,
          43,
          44,
          45,
          46,
          47,
          48,
          49,
          50,
          51,
          52,
          53,
          54,
          55,
          56,
          57,
          58,
          59,
          60,
          61,
          62,
          63,
          64,
          65,
          66,
          67,
          68,
          69,
          70,
          71,
          72,
          73,
          74,
          75,
          76,
          77,
          78,
          79,
          80,
          81,
          82,
          83,
          84,
          85,
          86,
          87,
          88,
          89,
          90,
          91,
          92,
          93,
          94,
          95,
          96,
          97,
          98,
          99,
          100,
          101,
          102,
          103,
          104,
          105,
          106,
          107,
          108,
          109,
          110,
          111,
          112,
          113,
          114,
          115,
          116,
          117,
          118,
          119,
          120,
          121,
          122,
          123,
          124,
          125,
          126,
          127,
          128,
          129,
          130,
          131,
          132,
          133,
          134,
          135,
          136,
          137,
          138,
          139,
          140,
          141,
          142,
          143,
          144,
          145,
          146,
          147,
          148,
          149,
          150,
          151,
          152,
          153,
          154,
          155,
          156,
          157,
          158,
          159,
          160,
          161,
          162,
          163,
          164,
          165,
          166,
          167,
          168,
          169,
          170,
          171,
          172,
          173,
          174,
          175,
          176,
          177,
          178
         ],
         "xaxis": "x",
         "y": [
          null,
          null,
          null,
          null,
          null,
          null,
          null,
          -0.558096527231663,
          5.754184770202318,
          5.716809031383211,
          5.547477432576109,
          5.420033648567817,
          5.279423755901894,
          5.179354848996533,
          5.063569923927758,
          4.981624577678621,
          4.912551064340124,
          4.937962942653933,
          4.959154795727489,
          5.037685087453551,
          5.137064697396387,
          5.276826977702424,
          5.370411963698775,
          5.460430758592578,
          5.921189302751444,
          6.370370575732213,
          6.764397591167347,
          7.068106456960306,
          7.344472566127691,
          7.610600094433294,
          7.844138475905593,
          7.401413272328064,
          6.936828993925591,
          6.495822114626389,
          6.122902558759881,
          5.730906010427583,
          5.35864054251605,
          5.016880169785235,
          4.9120254027825085,
          4.814194663530264,
          4.730507055727894,
          4.656833273603318,
          4.604397088000582,
          4.542206734738422,
          4.4754911679106515,
          4.459858059220667,
          4.450639929148847,
          4.434306164057727,
          4.435815038200341,
          4.442113115715185,
          4.460535446361602,
          4.478445361000378,
          4.463792871025385,
          4.4500598592465614,
          4.424701897672682,
          4.358992130066234,
          4.280466804329459,
          4.20376204215681,
          4.137508262307442,
          4.151285139654015,
          4.1952511046232175,
          4.252372808018347,
          4.33489573969719,
          4.423832193844933,
          4.501466244140099,
          4.568083334223237,
          4.682247778671084,
          4.758942997196099,
          4.826939799050166,
          4.886686118642435,
          4.958212720970301,
          5.040835747324152,
          5.126053942636417,
          5.137471417082175,
          5.157582574915466,
          5.2034764151596455,
          5.262821887740997,
          5.335351063814934,
          5.401656465762882,
          5.196948313146559,
          5.2255863747025435,
          5.278778652907807,
          5.608614614507758,
          5.619946901387229,
          5.860894368829401,
          6.0819431007205695,
          6.56407288205236,
          6.609658696772451,
          6.612512461944545,
          6.316267888233616,
          6.311966136412399,
          6.052599889724365,
          5.801741818659715,
          5.549064656638387,
          5.406980584935669,
          5.2777308667993115,
          5.146958440986544,
          5.033184482649809,
          4.926382795156067,
          4.813294923278168,
          4.712568388478381,
          4.673793349135424,
          4.636684396909674,
          4.600686440866229,
          4.551061473641339,
          4.495814529143383,
          4.453581909745018,
          4.650886717089416,
          4.640859780656664,
          4.632348828415488,
          4.617998397748409,
          4.602726724533102,
          4.577547513055534,
          4.54745870021359,
          4.279512543067941,
          4.264455746736157,
          4.261529890574267,
          4.277413289222915,
          4.288634696269976,
          4.315526457815284,
          4.357171845853586,
          4.390983922258102,
          4.384781376834528,
          4.37006687276485,
          4.344916400841464,
          4.330714535561759,
          4.309598369012885,
          4.292027262189151,
          4.283537893587946,
          4.266359874929848,
          4.261688566446963,
          4.2568291961491145,
          4.254656285897274,
          4.260745780994938,
          4.258313839512346,
          4.256549547383637,
          4.279947089896985,
          4.295238050595348,
          4.309341807095587,
          4.321296025566539,
          4.337297009080508,
          4.3517038225197515,
          4.363536675997172,
          4.3930391965773605,
          4.400569658704311,
          4.408218404231001,
          4.417671644133314,
          4.428503195046634,
          4.438854885192023,
          4.450722855127931,
          4.425775157138982,
          4.423545790507585,
          11.449541905565448,
          11.511911868594556,
          11.5737661000092,
          11.63093103367344,
          11.698916629742222,
          11.757171174597863,
          11.812079167503517,
          4.85167041428539,
          4.86325088950084,
          4.983796360297665,
          5.119925573365983,
          4.945835583373264,
          4.765804740756845,
          4.536750263329274,
          4.314911990421856,
          4.094883060442129,
          3.983846071031844,
          3.825415103051281,
          4.149522592149545,
          4.475351770925474,
          5.045574497152023,
          5.556193216736775,
          6.058883354819395,
          6.30766241867239,
          6.5739194509667005,
          6.623614377829767,
          6.705777728111174
         ],
         "yaxis": "y"
        },
        {
         "hovertemplate": "variable=cum_tx_cost<br>index=%{x}<br>value=%{y}<extra></extra>",
         "legendgroup": "cum_tx_cost",
         "line": {
          "dash": "solid"
         },
         "marker": {
          "symbol": "circle"
         },
         "mode": "lines",
         "name": "cum_tx_cost",
         "showlegend": true,
         "type": "scattergl",
         "x": [
          0,
          1,
          2,
          3,
          4,
          5,
          6,
          7,
          8,
          9,
          10,
          11,
          12,
          13,
          14,
          15,
          16,
          17,
          18,
          19,
          20,
          21,
          22,
          23,
          24,
          25,
          26,
          27,
          28,
          29,
          30,
          31,
          32,
          33,
          34,
          35,
          36,
          37,
          38,
          39,
          40,
          41,
          42,
          43,
          44,
          45,
          46,
          47,
          48,
          49,
          50,
          51,
          52,
          53,
          54,
          55,
          56,
          57,
          58,
          59,
          60,
          61,
          62,
          63,
          64,
          65,
          66,
          67,
          68,
          69,
          70,
          71,
          72,
          73,
          74,
          75,
          76,
          77,
          78,
          79,
          80,
          81,
          82,
          83,
          84,
          85,
          86,
          87,
          88,
          89,
          90,
          91,
          92,
          93,
          94,
          95,
          96,
          97,
          98,
          99,
          100,
          101,
          102,
          103,
          104,
          105,
          106,
          107,
          108,
          109,
          110,
          111,
          112,
          113,
          114,
          115,
          116,
          117,
          118,
          119,
          120,
          121,
          122,
          123,
          124,
          125,
          126,
          127,
          128,
          129,
          130,
          131,
          132,
          133,
          134,
          135,
          136,
          137,
          138,
          139,
          140,
          141,
          142,
          143,
          144,
          145,
          146,
          147,
          148,
          149,
          150,
          151,
          152,
          153,
          154,
          155,
          156,
          157,
          158,
          159,
          160,
          161,
          162,
          163,
          164,
          165,
          166,
          167,
          168,
          169,
          170,
          171,
          172,
          173,
          174,
          175,
          176,
          177,
          178
         ],
         "xaxis": "x",
         "y": [
          0.001,
          0.001,
          0.001,
          0.001,
          0.001,
          0.001,
          0.001,
          0.001,
          0.001,
          0.001,
          0.001,
          0.001,
          0.001,
          0.001,
          0.001,
          0.001,
          0.001,
          0.001,
          0.001,
          0.001,
          0.001,
          0.001,
          0.001,
          0.001,
          0.001,
          0.001,
          0.001,
          0.001,
          0.001,
          0.001,
          0.001,
          0.001,
          0.001,
          0.001,
          0.001,
          0.001,
          0.001,
          0.001,
          0.001,
          0.001,
          0.001,
          0.001,
          0.001,
          0.001,
          0.001,
          0.001,
          0.001,
          0.001,
          0.001,
          0.001,
          0.001,
          0.001,
          0.001,
          0.001,
          0.001,
          0.001,
          0.001,
          0.001,
          0.001,
          0.001,
          0.001,
          0.001,
          0.001,
          0.001,
          0.001,
          0.001,
          0.001,
          0.001,
          0.001,
          0.001,
          0.001,
          0.001,
          0.001,
          0.001,
          0.001,
          0.001,
          0.001,
          0.001,
          16.965249746053434,
          41.17218950796092,
          67.49331228075083,
          67.49331228075083,
          84.57950968918254,
          84.57950968918254,
          84.57950968918254,
          84.57950968918254,
          84.57950968918254,
          84.57950968918254,
          84.57950968918254,
          84.57950968918254,
          84.57950968918254,
          84.57950968918254,
          84.57950968918254,
          84.57950968918254,
          84.57950968918254,
          84.57950968918254,
          84.57950968918254,
          84.57950968918254,
          84.57950968918254,
          84.57950968918254,
          84.57950968918254,
          84.57950968918254,
          84.57950968918254,
          84.57950968918254,
          84.57950968918254,
          84.57950968918254,
          84.57950968918254,
          84.57950968918254,
          84.57950968918254,
          84.57950968918254,
          84.57950968918254,
          84.57950968918254,
          84.57950968918254,
          84.57950968918254,
          84.57950968918254,
          84.57950968918254,
          84.57950968918254,
          84.57950968918254,
          84.57950968918254,
          84.57950968918254,
          84.57950968918254,
          84.57950968918254,
          84.57950968918254,
          84.57950968918254,
          84.57950968918254,
          84.57950968918254,
          84.57950968918254,
          84.57950968918254,
          84.57950968918254,
          84.57950968918254,
          84.57950968918254,
          84.57950968918254,
          84.57950968918254,
          84.57950968918254,
          84.57950968918254,
          84.57950968918254,
          84.57950968918254,
          84.57950968918254,
          84.57950968918254,
          84.57950968918254,
          84.57950968918254,
          84.57950968918254,
          84.57950968918254,
          84.57950968918254,
          84.57950968918254,
          84.57950968918254,
          84.57950968918254,
          84.57950968918254,
          84.57950968918254,
          84.57950968918254,
          84.57950968918254,
          169.82794899796926,
          169.82794899796926,
          169.82794899796926,
          169.82794899796926,
          169.82794899796926,
          169.82794899796926,
          169.82794899796926,
          169.82794899796926,
          169.82794899796926,
          169.82794899796926,
          169.82794899796926,
          195.19795922753318,
          227.9474643296582,
          282.7602610170126,
          349.43528157328024,
          429.2031952828158,
          498.7361101226743,
          522.7169344656188,
          549.736355094717,
          566.6133867948524,
          566.6133867948524,
          566.6133867948524,
          566.6133867948524,
          566.6133867948524,
          566.6133867948524,
          566.6133867948524,
          566.6133867948524,
          566.6133867948524
         ],
         "yaxis": "y2"
        }
       ],
       "layout": {
        "template": {
         "data": {
          "bar": [
           {
            "error_x": {
             "color": "#2a3f5f"
            },
            "error_y": {
             "color": "#2a3f5f"
            },
            "marker": {
             "line": {
              "color": "#E5ECF6",
              "width": 0.5
             },
             "pattern": {
              "fillmode": "overlay",
              "size": 10,
              "solidity": 0.2
             }
            },
            "type": "bar"
           }
          ],
          "barpolar": [
           {
            "marker": {
             "line": {
              "color": "#E5ECF6",
              "width": 0.5
             },
             "pattern": {
              "fillmode": "overlay",
              "size": 10,
              "solidity": 0.2
             }
            },
            "type": "barpolar"
           }
          ],
          "carpet": [
           {
            "aaxis": {
             "endlinecolor": "#2a3f5f",
             "gridcolor": "white",
             "linecolor": "white",
             "minorgridcolor": "white",
             "startlinecolor": "#2a3f5f"
            },
            "baxis": {
             "endlinecolor": "#2a3f5f",
             "gridcolor": "white",
             "linecolor": "white",
             "minorgridcolor": "white",
             "startlinecolor": "#2a3f5f"
            },
            "type": "carpet"
           }
          ],
          "choropleth": [
           {
            "colorbar": {
             "outlinewidth": 0,
             "ticks": ""
            },
            "type": "choropleth"
           }
          ],
          "contour": [
           {
            "colorbar": {
             "outlinewidth": 0,
             "ticks": ""
            },
            "colorscale": [
             [
              0,
              "#0d0887"
             ],
             [
              0.1111111111111111,
              "#46039f"
             ],
             [
              0.2222222222222222,
              "#7201a8"
             ],
             [
              0.3333333333333333,
              "#9c179e"
             ],
             [
              0.4444444444444444,
              "#bd3786"
             ],
             [
              0.5555555555555556,
              "#d8576b"
             ],
             [
              0.6666666666666666,
              "#ed7953"
             ],
             [
              0.7777777777777778,
              "#fb9f3a"
             ],
             [
              0.8888888888888888,
              "#fdca26"
             ],
             [
              1,
              "#f0f921"
             ]
            ],
            "type": "contour"
           }
          ],
          "contourcarpet": [
           {
            "colorbar": {
             "outlinewidth": 0,
             "ticks": ""
            },
            "type": "contourcarpet"
           }
          ],
          "heatmap": [
           {
            "colorbar": {
             "outlinewidth": 0,
             "ticks": ""
            },
            "colorscale": [
             [
              0,
              "#0d0887"
             ],
             [
              0.1111111111111111,
              "#46039f"
             ],
             [
              0.2222222222222222,
              "#7201a8"
             ],
             [
              0.3333333333333333,
              "#9c179e"
             ],
             [
              0.4444444444444444,
              "#bd3786"
             ],
             [
              0.5555555555555556,
              "#d8576b"
             ],
             [
              0.6666666666666666,
              "#ed7953"
             ],
             [
              0.7777777777777778,
              "#fb9f3a"
             ],
             [
              0.8888888888888888,
              "#fdca26"
             ],
             [
              1,
              "#f0f921"
             ]
            ],
            "type": "heatmap"
           }
          ],
          "heatmapgl": [
           {
            "colorbar": {
             "outlinewidth": 0,
             "ticks": ""
            },
            "colorscale": [
             [
              0,
              "#0d0887"
             ],
             [
              0.1111111111111111,
              "#46039f"
             ],
             [
              0.2222222222222222,
              "#7201a8"
             ],
             [
              0.3333333333333333,
              "#9c179e"
             ],
             [
              0.4444444444444444,
              "#bd3786"
             ],
             [
              0.5555555555555556,
              "#d8576b"
             ],
             [
              0.6666666666666666,
              "#ed7953"
             ],
             [
              0.7777777777777778,
              "#fb9f3a"
             ],
             [
              0.8888888888888888,
              "#fdca26"
             ],
             [
              1,
              "#f0f921"
             ]
            ],
            "type": "heatmapgl"
           }
          ],
          "histogram": [
           {
            "marker": {
             "pattern": {
              "fillmode": "overlay",
              "size": 10,
              "solidity": 0.2
             }
            },
            "type": "histogram"
           }
          ],
          "histogram2d": [
           {
            "colorbar": {
             "outlinewidth": 0,
             "ticks": ""
            },
            "colorscale": [
             [
              0,
              "#0d0887"
             ],
             [
              0.1111111111111111,
              "#46039f"
             ],
             [
              0.2222222222222222,
              "#7201a8"
             ],
             [
              0.3333333333333333,
              "#9c179e"
             ],
             [
              0.4444444444444444,
              "#bd3786"
             ],
             [
              0.5555555555555556,
              "#d8576b"
             ],
             [
              0.6666666666666666,
              "#ed7953"
             ],
             [
              0.7777777777777778,
              "#fb9f3a"
             ],
             [
              0.8888888888888888,
              "#fdca26"
             ],
             [
              1,
              "#f0f921"
             ]
            ],
            "type": "histogram2d"
           }
          ],
          "histogram2dcontour": [
           {
            "colorbar": {
             "outlinewidth": 0,
             "ticks": ""
            },
            "colorscale": [
             [
              0,
              "#0d0887"
             ],
             [
              0.1111111111111111,
              "#46039f"
             ],
             [
              0.2222222222222222,
              "#7201a8"
             ],
             [
              0.3333333333333333,
              "#9c179e"
             ],
             [
              0.4444444444444444,
              "#bd3786"
             ],
             [
              0.5555555555555556,
              "#d8576b"
             ],
             [
              0.6666666666666666,
              "#ed7953"
             ],
             [
              0.7777777777777778,
              "#fb9f3a"
             ],
             [
              0.8888888888888888,
              "#fdca26"
             ],
             [
              1,
              "#f0f921"
             ]
            ],
            "type": "histogram2dcontour"
           }
          ],
          "mesh3d": [
           {
            "colorbar": {
             "outlinewidth": 0,
             "ticks": ""
            },
            "type": "mesh3d"
           }
          ],
          "parcoords": [
           {
            "line": {
             "colorbar": {
              "outlinewidth": 0,
              "ticks": ""
             }
            },
            "type": "parcoords"
           }
          ],
          "pie": [
           {
            "automargin": true,
            "type": "pie"
           }
          ],
          "scatter": [
           {
            "fillpattern": {
             "fillmode": "overlay",
             "size": 10,
             "solidity": 0.2
            },
            "type": "scatter"
           }
          ],
          "scatter3d": [
           {
            "line": {
             "colorbar": {
              "outlinewidth": 0,
              "ticks": ""
             }
            },
            "marker": {
             "colorbar": {
              "outlinewidth": 0,
              "ticks": ""
             }
            },
            "type": "scatter3d"
           }
          ],
          "scattercarpet": [
           {
            "marker": {
             "colorbar": {
              "outlinewidth": 0,
              "ticks": ""
             }
            },
            "type": "scattercarpet"
           }
          ],
          "scattergeo": [
           {
            "marker": {
             "colorbar": {
              "outlinewidth": 0,
              "ticks": ""
             }
            },
            "type": "scattergeo"
           }
          ],
          "scattergl": [
           {
            "marker": {
             "colorbar": {
              "outlinewidth": 0,
              "ticks": ""
             }
            },
            "type": "scattergl"
           }
          ],
          "scattermapbox": [
           {
            "marker": {
             "colorbar": {
              "outlinewidth": 0,
              "ticks": ""
             }
            },
            "type": "scattermapbox"
           }
          ],
          "scatterpolar": [
           {
            "marker": {
             "colorbar": {
              "outlinewidth": 0,
              "ticks": ""
             }
            },
            "type": "scatterpolar"
           }
          ],
          "scatterpolargl": [
           {
            "marker": {
             "colorbar": {
              "outlinewidth": 0,
              "ticks": ""
             }
            },
            "type": "scatterpolargl"
           }
          ],
          "scatterternary": [
           {
            "marker": {
             "colorbar": {
              "outlinewidth": 0,
              "ticks": ""
             }
            },
            "type": "scatterternary"
           }
          ],
          "surface": [
           {
            "colorbar": {
             "outlinewidth": 0,
             "ticks": ""
            },
            "colorscale": [
             [
              0,
              "#0d0887"
             ],
             [
              0.1111111111111111,
              "#46039f"
             ],
             [
              0.2222222222222222,
              "#7201a8"
             ],
             [
              0.3333333333333333,
              "#9c179e"
             ],
             [
              0.4444444444444444,
              "#bd3786"
             ],
             [
              0.5555555555555556,
              "#d8576b"
             ],
             [
              0.6666666666666666,
              "#ed7953"
             ],
             [
              0.7777777777777778,
              "#fb9f3a"
             ],
             [
              0.8888888888888888,
              "#fdca26"
             ],
             [
              1,
              "#f0f921"
             ]
            ],
            "type": "surface"
           }
          ],
          "table": [
           {
            "cells": {
             "fill": {
              "color": "#EBF0F8"
             },
             "line": {
              "color": "white"
             }
            },
            "header": {
             "fill": {
              "color": "#C8D4E3"
             },
             "line": {
              "color": "white"
             }
            },
            "type": "table"
           }
          ]
         },
         "layout": {
          "annotationdefaults": {
           "arrowcolor": "#2a3f5f",
           "arrowhead": 0,
           "arrowwidth": 1
          },
          "autotypenumbers": "strict",
          "coloraxis": {
           "colorbar": {
            "outlinewidth": 0,
            "ticks": ""
           }
          },
          "colorscale": {
           "diverging": [
            [
             0,
             "#8e0152"
            ],
            [
             0.1,
             "#c51b7d"
            ],
            [
             0.2,
             "#de77ae"
            ],
            [
             0.3,
             "#f1b6da"
            ],
            [
             0.4,
             "#fde0ef"
            ],
            [
             0.5,
             "#f7f7f7"
            ],
            [
             0.6,
             "#e6f5d0"
            ],
            [
             0.7,
             "#b8e186"
            ],
            [
             0.8,
             "#7fbc41"
            ],
            [
             0.9,
             "#4d9221"
            ],
            [
             1,
             "#276419"
            ]
           ],
           "sequential": [
            [
             0,
             "#0d0887"
            ],
            [
             0.1111111111111111,
             "#46039f"
            ],
            [
             0.2222222222222222,
             "#7201a8"
            ],
            [
             0.3333333333333333,
             "#9c179e"
            ],
            [
             0.4444444444444444,
             "#bd3786"
            ],
            [
             0.5555555555555556,
             "#d8576b"
            ],
            [
             0.6666666666666666,
             "#ed7953"
            ],
            [
             0.7777777777777778,
             "#fb9f3a"
            ],
            [
             0.8888888888888888,
             "#fdca26"
            ],
            [
             1,
             "#f0f921"
            ]
           ],
           "sequentialminus": [
            [
             0,
             "#0d0887"
            ],
            [
             0.1111111111111111,
             "#46039f"
            ],
            [
             0.2222222222222222,
             "#7201a8"
            ],
            [
             0.3333333333333333,
             "#9c179e"
            ],
            [
             0.4444444444444444,
             "#bd3786"
            ],
            [
             0.5555555555555556,
             "#d8576b"
            ],
            [
             0.6666666666666666,
             "#ed7953"
            ],
            [
             0.7777777777777778,
             "#fb9f3a"
            ],
            [
             0.8888888888888888,
             "#fdca26"
            ],
            [
             1,
             "#f0f921"
            ]
           ]
          },
          "colorway": [
           "#636efa",
           "#EF553B",
           "#00cc96",
           "#ab63fa",
           "#FFA15A",
           "#19d3f3",
           "#FF6692",
           "#B6E880",
           "#FF97FF",
           "#FECB52"
          ],
          "font": {
           "color": "#2a3f5f"
          },
          "geo": {
           "bgcolor": "white",
           "lakecolor": "white",
           "landcolor": "#E5ECF6",
           "showlakes": true,
           "showland": true,
           "subunitcolor": "white"
          },
          "hoverlabel": {
           "align": "left"
          },
          "hovermode": "closest",
          "mapbox": {
           "style": "light"
          },
          "paper_bgcolor": "white",
          "plot_bgcolor": "#E5ECF6",
          "polar": {
           "angularaxis": {
            "gridcolor": "white",
            "linecolor": "white",
            "ticks": ""
           },
           "bgcolor": "#E5ECF6",
           "radialaxis": {
            "gridcolor": "white",
            "linecolor": "white",
            "ticks": ""
           }
          },
          "scene": {
           "xaxis": {
            "backgroundcolor": "#E5ECF6",
            "gridcolor": "white",
            "gridwidth": 2,
            "linecolor": "white",
            "showbackground": true,
            "ticks": "",
            "zerolinecolor": "white"
           },
           "yaxis": {
            "backgroundcolor": "#E5ECF6",
            "gridcolor": "white",
            "gridwidth": 2,
            "linecolor": "white",
            "showbackground": true,
            "ticks": "",
            "zerolinecolor": "white"
           },
           "zaxis": {
            "backgroundcolor": "#E5ECF6",
            "gridcolor": "white",
            "gridwidth": 2,
            "linecolor": "white",
            "showbackground": true,
            "ticks": "",
            "zerolinecolor": "white"
           }
          },
          "shapedefaults": {
           "line": {
            "color": "#2a3f5f"
           }
          },
          "ternary": {
           "aaxis": {
            "gridcolor": "white",
            "linecolor": "white",
            "ticks": ""
           },
           "baxis": {
            "gridcolor": "white",
            "linecolor": "white",
            "ticks": ""
           },
           "bgcolor": "#E5ECF6",
           "caxis": {
            "gridcolor": "white",
            "linecolor": "white",
            "ticks": ""
           }
          },
          "title": {
           "x": 0.05
          },
          "xaxis": {
           "automargin": true,
           "gridcolor": "white",
           "linecolor": "white",
           "ticks": "",
           "title": {
            "standoff": 15
           },
           "zerolinecolor": "white",
           "zerolinewidth": 2
          },
          "yaxis": {
           "automargin": true,
           "gridcolor": "white",
           "linecolor": "white",
           "ticks": "",
           "title": {
            "standoff": 15
           },
           "zerolinecolor": "white",
           "zerolinewidth": 2
          }
         }
        },
        "xaxis": {
         "anchor": "y",
         "domain": [
          0,
          0.94
         ],
         "title": {
          "text": "time"
         }
        },
        "yaxis": {
         "anchor": "x",
         "domain": [
          0,
          1
         ],
         "title": {
          "text": "7d_perf"
         }
        },
        "yaxis2": {
         "anchor": "x",
         "overlaying": "y",
         "side": "right",
         "title": {
          "text": "cum_tx_cost"
         }
        }
       }
      },
      "text/html": [
       "<div>                            <div id=\"911f794a-673f-4922-97b0-2b688a8aa0be\" class=\"plotly-graph-div\" style=\"height:525px; width:100%;\"></div>            <script type=\"text/javascript\">                require([\"plotly\"], function(Plotly) {                    window.PLOTLYENV=window.PLOTLYENV || {};                                    if (document.getElementById(\"911f794a-673f-4922-97b0-2b688a8aa0be\")) {                    Plotly.newPlot(                        \"911f794a-673f-4922-97b0-2b688a8aa0be\",                        [{\"hovertemplate\":\"variable=wealth\\u003cbr\\u003eindex=%{x}\\u003cbr\\u003evalue=%{y}\\u003cextra\\u003e\\u003c\\u002fextra\\u003e\",\"legendgroup\":\"wealth\",\"line\":{\"dash\":\"solid\"},\"marker\":{\"symbol\":\"circle\"},\"mode\":\"lines\",\"name\":\"wealth\",\"showlegend\":true,\"x\":[0,1,2,3,4,5,6,7,8,9,10,11,12,13,14,15,16,17,18,19,20,21,22,23,24,25,26,27,28,29,30,31,32,33,34,35,36,37,38,39,40,41,42,43,44,45,46,47,48,49,50,51,52,53,54,55,56,57,58,59,60,61,62,63,64,65,66,67,68,69,70,71,72,73,74,75,76,77,78,79,80,81,82,83,84,85,86,87,88,89,90,91,92,93,94,95,96,97,98,99,100,101,102,103,104,105,106,107,108,109,110,111,112,113,114,115,116,117,118,119,120,121,122,123,124,125,126,127,128,129,130,131,132,133,134,135,136,137,138,139,140,141,142,143,144,145,146,147,148,149,150,151,152,153,154,155,156,157,158,159,160,161,162,163,164,165,166,167,168,169,170,171,172,173,174,175,176,177,178],\"xaxis\":\"x\",\"y\":[null,null,null,null,null,null,null,-0.558096527231663,5.754184770202318,5.716809031383211,5.547477432576109,5.420033648567817,5.279423755901894,5.179354848996533,5.063569923927758,4.981624577678621,4.912551064340124,4.937962942653933,4.959154795727489,5.037685087453551,5.137064697396387,5.276826977702424,5.370411963698775,5.460430758592578,5.921189302751444,6.370370575732213,6.764397591167347,7.068106456960306,7.344472566127691,7.610600094433294,7.844138475905593,7.401413272328064,6.936828993925591,6.495822114626389,6.122902558759881,5.730906010427583,5.35864054251605,5.016880169785235,4.9120254027825085,4.814194663530264,4.730507055727894,4.656833273603318,4.604397088000582,4.542206734738422,4.4754911679106515,4.459858059220667,4.450639929148847,4.434306164057727,4.435815038200341,4.442113115715185,4.460535446361602,4.478445361000378,4.463792871025385,4.4500598592465614,4.424701897672682,4.358992130066234,4.280466804329459,4.20376204215681,4.137508262307442,4.151285139654015,4.1952511046232175,4.252372808018347,4.33489573969719,4.423832193844933,4.501466244140099,4.568083334223237,4.682247778671084,4.758942997196099,4.826939799050166,4.886686118642435,4.958212720970301,5.040835747324152,5.126053942636417,5.137471417082175,5.157582574915466,5.2034764151596455,5.262821887740997,5.335351063814934,5.401656465762882,5.196948313146559,5.2255863747025435,5.278778652907807,5.608614614507758,5.619946901387229,5.860894368829401,6.0819431007205695,6.56407288205236,6.609658696772451,6.612512461944545,6.316267888233616,6.311966136412399,6.052599889724365,5.801741818659715,5.549064656638387,5.406980584935669,5.2777308667993115,5.146958440986544,5.033184482649809,4.926382795156067,4.813294923278168,4.712568388478381,4.673793349135424,4.636684396909674,4.600686440866229,4.551061473641339,4.495814529143383,4.453581909745018,4.650886717089416,4.640859780656664,4.632348828415488,4.617998397748409,4.602726724533102,4.577547513055534,4.54745870021359,4.279512543067941,4.264455746736157,4.261529890574267,4.277413289222915,4.288634696269976,4.315526457815284,4.357171845853586,4.390983922258102,4.384781376834528,4.37006687276485,4.344916400841464,4.330714535561759,4.309598369012885,4.292027262189151,4.283537893587946,4.266359874929848,4.261688566446963,4.2568291961491145,4.254656285897274,4.260745780994938,4.258313839512346,4.256549547383637,4.279947089896985,4.295238050595348,4.309341807095587,4.321296025566539,4.337297009080508,4.3517038225197515,4.363536675997172,4.3930391965773605,4.400569658704311,4.408218404231001,4.417671644133314,4.428503195046634,4.438854885192023,4.450722855127931,4.425775157138982,4.423545790507585,11.449541905565448,11.511911868594556,11.5737661000092,11.63093103367344,11.698916629742222,11.757171174597863,11.812079167503517,4.85167041428539,4.86325088950084,4.983796360297665,5.119925573365983,4.945835583373264,4.765804740756845,4.536750263329274,4.314911990421856,4.094883060442129,3.983846071031844,3.825415103051281,4.149522592149545,4.475351770925474,5.045574497152023,5.556193216736775,6.058883354819395,6.30766241867239,6.5739194509667005,6.623614377829767,6.705777728111174],\"yaxis\":\"y\",\"type\":\"scattergl\"},{\"hovertemplate\":\"variable=cum_tx_cost\\u003cbr\\u003eindex=%{x}\\u003cbr\\u003evalue=%{y}\\u003cextra\\u003e\\u003c\\u002fextra\\u003e\",\"legendgroup\":\"cum_tx_cost\",\"line\":{\"dash\":\"solid\"},\"marker\":{\"symbol\":\"circle\"},\"mode\":\"lines\",\"name\":\"cum_tx_cost\",\"showlegend\":true,\"x\":[0,1,2,3,4,5,6,7,8,9,10,11,12,13,14,15,16,17,18,19,20,21,22,23,24,25,26,27,28,29,30,31,32,33,34,35,36,37,38,39,40,41,42,43,44,45,46,47,48,49,50,51,52,53,54,55,56,57,58,59,60,61,62,63,64,65,66,67,68,69,70,71,72,73,74,75,76,77,78,79,80,81,82,83,84,85,86,87,88,89,90,91,92,93,94,95,96,97,98,99,100,101,102,103,104,105,106,107,108,109,110,111,112,113,114,115,116,117,118,119,120,121,122,123,124,125,126,127,128,129,130,131,132,133,134,135,136,137,138,139,140,141,142,143,144,145,146,147,148,149,150,151,152,153,154,155,156,157,158,159,160,161,162,163,164,165,166,167,168,169,170,171,172,173,174,175,176,177,178],\"xaxis\":\"x\",\"y\":[0.001,0.001,0.001,0.001,0.001,0.001,0.001,0.001,0.001,0.001,0.001,0.001,0.001,0.001,0.001,0.001,0.001,0.001,0.001,0.001,0.001,0.001,0.001,0.001,0.001,0.001,0.001,0.001,0.001,0.001,0.001,0.001,0.001,0.001,0.001,0.001,0.001,0.001,0.001,0.001,0.001,0.001,0.001,0.001,0.001,0.001,0.001,0.001,0.001,0.001,0.001,0.001,0.001,0.001,0.001,0.001,0.001,0.001,0.001,0.001,0.001,0.001,0.001,0.001,0.001,0.001,0.001,0.001,0.001,0.001,0.001,0.001,0.001,0.001,0.001,0.001,0.001,0.001,16.965249746053434,41.17218950796092,67.49331228075083,67.49331228075083,84.57950968918254,84.57950968918254,84.57950968918254,84.57950968918254,84.57950968918254,84.57950968918254,84.57950968918254,84.57950968918254,84.57950968918254,84.57950968918254,84.57950968918254,84.57950968918254,84.57950968918254,84.57950968918254,84.57950968918254,84.57950968918254,84.57950968918254,84.57950968918254,84.57950968918254,84.57950968918254,84.57950968918254,84.57950968918254,84.57950968918254,84.57950968918254,84.57950968918254,84.57950968918254,84.57950968918254,84.57950968918254,84.57950968918254,84.57950968918254,84.57950968918254,84.57950968918254,84.57950968918254,84.57950968918254,84.57950968918254,84.57950968918254,84.57950968918254,84.57950968918254,84.57950968918254,84.57950968918254,84.57950968918254,84.57950968918254,84.57950968918254,84.57950968918254,84.57950968918254,84.57950968918254,84.57950968918254,84.57950968918254,84.57950968918254,84.57950968918254,84.57950968918254,84.57950968918254,84.57950968918254,84.57950968918254,84.57950968918254,84.57950968918254,84.57950968918254,84.57950968918254,84.57950968918254,84.57950968918254,84.57950968918254,84.57950968918254,84.57950968918254,84.57950968918254,84.57950968918254,84.57950968918254,84.57950968918254,84.57950968918254,84.57950968918254,169.82794899796926,169.82794899796926,169.82794899796926,169.82794899796926,169.82794899796926,169.82794899796926,169.82794899796926,169.82794899796926,169.82794899796926,169.82794899796926,169.82794899796926,195.19795922753318,227.9474643296582,282.7602610170126,349.43528157328024,429.2031952828158,498.7361101226743,522.7169344656188,549.736355094717,566.6133867948524,566.6133867948524,566.6133867948524,566.6133867948524,566.6133867948524,566.6133867948524,566.6133867948524,566.6133867948524,566.6133867948524],\"yaxis\":\"y2\",\"type\":\"scattergl\"}],                        {\"template\":{\"data\":{\"histogram2dcontour\":[{\"type\":\"histogram2dcontour\",\"colorbar\":{\"outlinewidth\":0,\"ticks\":\"\"},\"colorscale\":[[0.0,\"#0d0887\"],[0.1111111111111111,\"#46039f\"],[0.2222222222222222,\"#7201a8\"],[0.3333333333333333,\"#9c179e\"],[0.4444444444444444,\"#bd3786\"],[0.5555555555555556,\"#d8576b\"],[0.6666666666666666,\"#ed7953\"],[0.7777777777777778,\"#fb9f3a\"],[0.8888888888888888,\"#fdca26\"],[1.0,\"#f0f921\"]]}],\"choropleth\":[{\"type\":\"choropleth\",\"colorbar\":{\"outlinewidth\":0,\"ticks\":\"\"}}],\"histogram2d\":[{\"type\":\"histogram2d\",\"colorbar\":{\"outlinewidth\":0,\"ticks\":\"\"},\"colorscale\":[[0.0,\"#0d0887\"],[0.1111111111111111,\"#46039f\"],[0.2222222222222222,\"#7201a8\"],[0.3333333333333333,\"#9c179e\"],[0.4444444444444444,\"#bd3786\"],[0.5555555555555556,\"#d8576b\"],[0.6666666666666666,\"#ed7953\"],[0.7777777777777778,\"#fb9f3a\"],[0.8888888888888888,\"#fdca26\"],[1.0,\"#f0f921\"]]}],\"heatmap\":[{\"type\":\"heatmap\",\"colorbar\":{\"outlinewidth\":0,\"ticks\":\"\"},\"colorscale\":[[0.0,\"#0d0887\"],[0.1111111111111111,\"#46039f\"],[0.2222222222222222,\"#7201a8\"],[0.3333333333333333,\"#9c179e\"],[0.4444444444444444,\"#bd3786\"],[0.5555555555555556,\"#d8576b\"],[0.6666666666666666,\"#ed7953\"],[0.7777777777777778,\"#fb9f3a\"],[0.8888888888888888,\"#fdca26\"],[1.0,\"#f0f921\"]]}],\"heatmapgl\":[{\"type\":\"heatmapgl\",\"colorbar\":{\"outlinewidth\":0,\"ticks\":\"\"},\"colorscale\":[[0.0,\"#0d0887\"],[0.1111111111111111,\"#46039f\"],[0.2222222222222222,\"#7201a8\"],[0.3333333333333333,\"#9c179e\"],[0.4444444444444444,\"#bd3786\"],[0.5555555555555556,\"#d8576b\"],[0.6666666666666666,\"#ed7953\"],[0.7777777777777778,\"#fb9f3a\"],[0.8888888888888888,\"#fdca26\"],[1.0,\"#f0f921\"]]}],\"contourcarpet\":[{\"type\":\"contourcarpet\",\"colorbar\":{\"outlinewidth\":0,\"ticks\":\"\"}}],\"contour\":[{\"type\":\"contour\",\"colorbar\":{\"outlinewidth\":0,\"ticks\":\"\"},\"colorscale\":[[0.0,\"#0d0887\"],[0.1111111111111111,\"#46039f\"],[0.2222222222222222,\"#7201a8\"],[0.3333333333333333,\"#9c179e\"],[0.4444444444444444,\"#bd3786\"],[0.5555555555555556,\"#d8576b\"],[0.6666666666666666,\"#ed7953\"],[0.7777777777777778,\"#fb9f3a\"],[0.8888888888888888,\"#fdca26\"],[1.0,\"#f0f921\"]]}],\"surface\":[{\"type\":\"surface\",\"colorbar\":{\"outlinewidth\":0,\"ticks\":\"\"},\"colorscale\":[[0.0,\"#0d0887\"],[0.1111111111111111,\"#46039f\"],[0.2222222222222222,\"#7201a8\"],[0.3333333333333333,\"#9c179e\"],[0.4444444444444444,\"#bd3786\"],[0.5555555555555556,\"#d8576b\"],[0.6666666666666666,\"#ed7953\"],[0.7777777777777778,\"#fb9f3a\"],[0.8888888888888888,\"#fdca26\"],[1.0,\"#f0f921\"]]}],\"mesh3d\":[{\"type\":\"mesh3d\",\"colorbar\":{\"outlinewidth\":0,\"ticks\":\"\"}}],\"scatter\":[{\"fillpattern\":{\"fillmode\":\"overlay\",\"size\":10,\"solidity\":0.2},\"type\":\"scatter\"}],\"parcoords\":[{\"type\":\"parcoords\",\"line\":{\"colorbar\":{\"outlinewidth\":0,\"ticks\":\"\"}}}],\"scatterpolargl\":[{\"type\":\"scatterpolargl\",\"marker\":{\"colorbar\":{\"outlinewidth\":0,\"ticks\":\"\"}}}],\"bar\":[{\"error_x\":{\"color\":\"#2a3f5f\"},\"error_y\":{\"color\":\"#2a3f5f\"},\"marker\":{\"line\":{\"color\":\"#E5ECF6\",\"width\":0.5},\"pattern\":{\"fillmode\":\"overlay\",\"size\":10,\"solidity\":0.2}},\"type\":\"bar\"}],\"scattergeo\":[{\"type\":\"scattergeo\",\"marker\":{\"colorbar\":{\"outlinewidth\":0,\"ticks\":\"\"}}}],\"scatterpolar\":[{\"type\":\"scatterpolar\",\"marker\":{\"colorbar\":{\"outlinewidth\":0,\"ticks\":\"\"}}}],\"histogram\":[{\"marker\":{\"pattern\":{\"fillmode\":\"overlay\",\"size\":10,\"solidity\":0.2}},\"type\":\"histogram\"}],\"scattergl\":[{\"type\":\"scattergl\",\"marker\":{\"colorbar\":{\"outlinewidth\":0,\"ticks\":\"\"}}}],\"scatter3d\":[{\"type\":\"scatter3d\",\"line\":{\"colorbar\":{\"outlinewidth\":0,\"ticks\":\"\"}},\"marker\":{\"colorbar\":{\"outlinewidth\":0,\"ticks\":\"\"}}}],\"scattermapbox\":[{\"type\":\"scattermapbox\",\"marker\":{\"colorbar\":{\"outlinewidth\":0,\"ticks\":\"\"}}}],\"scatterternary\":[{\"type\":\"scatterternary\",\"marker\":{\"colorbar\":{\"outlinewidth\":0,\"ticks\":\"\"}}}],\"scattercarpet\":[{\"type\":\"scattercarpet\",\"marker\":{\"colorbar\":{\"outlinewidth\":0,\"ticks\":\"\"}}}],\"carpet\":[{\"aaxis\":{\"endlinecolor\":\"#2a3f5f\",\"gridcolor\":\"white\",\"linecolor\":\"white\",\"minorgridcolor\":\"white\",\"startlinecolor\":\"#2a3f5f\"},\"baxis\":{\"endlinecolor\":\"#2a3f5f\",\"gridcolor\":\"white\",\"linecolor\":\"white\",\"minorgridcolor\":\"white\",\"startlinecolor\":\"#2a3f5f\"},\"type\":\"carpet\"}],\"table\":[{\"cells\":{\"fill\":{\"color\":\"#EBF0F8\"},\"line\":{\"color\":\"white\"}},\"header\":{\"fill\":{\"color\":\"#C8D4E3\"},\"line\":{\"color\":\"white\"}},\"type\":\"table\"}],\"barpolar\":[{\"marker\":{\"line\":{\"color\":\"#E5ECF6\",\"width\":0.5},\"pattern\":{\"fillmode\":\"overlay\",\"size\":10,\"solidity\":0.2}},\"type\":\"barpolar\"}],\"pie\":[{\"automargin\":true,\"type\":\"pie\"}]},\"layout\":{\"autotypenumbers\":\"strict\",\"colorway\":[\"#636efa\",\"#EF553B\",\"#00cc96\",\"#ab63fa\",\"#FFA15A\",\"#19d3f3\",\"#FF6692\",\"#B6E880\",\"#FF97FF\",\"#FECB52\"],\"font\":{\"color\":\"#2a3f5f\"},\"hovermode\":\"closest\",\"hoverlabel\":{\"align\":\"left\"},\"paper_bgcolor\":\"white\",\"plot_bgcolor\":\"#E5ECF6\",\"polar\":{\"bgcolor\":\"#E5ECF6\",\"angularaxis\":{\"gridcolor\":\"white\",\"linecolor\":\"white\",\"ticks\":\"\"},\"radialaxis\":{\"gridcolor\":\"white\",\"linecolor\":\"white\",\"ticks\":\"\"}},\"ternary\":{\"bgcolor\":\"#E5ECF6\",\"aaxis\":{\"gridcolor\":\"white\",\"linecolor\":\"white\",\"ticks\":\"\"},\"baxis\":{\"gridcolor\":\"white\",\"linecolor\":\"white\",\"ticks\":\"\"},\"caxis\":{\"gridcolor\":\"white\",\"linecolor\":\"white\",\"ticks\":\"\"}},\"coloraxis\":{\"colorbar\":{\"outlinewidth\":0,\"ticks\":\"\"}},\"colorscale\":{\"sequential\":[[0.0,\"#0d0887\"],[0.1111111111111111,\"#46039f\"],[0.2222222222222222,\"#7201a8\"],[0.3333333333333333,\"#9c179e\"],[0.4444444444444444,\"#bd3786\"],[0.5555555555555556,\"#d8576b\"],[0.6666666666666666,\"#ed7953\"],[0.7777777777777778,\"#fb9f3a\"],[0.8888888888888888,\"#fdca26\"],[1.0,\"#f0f921\"]],\"sequentialminus\":[[0.0,\"#0d0887\"],[0.1111111111111111,\"#46039f\"],[0.2222222222222222,\"#7201a8\"],[0.3333333333333333,\"#9c179e\"],[0.4444444444444444,\"#bd3786\"],[0.5555555555555556,\"#d8576b\"],[0.6666666666666666,\"#ed7953\"],[0.7777777777777778,\"#fb9f3a\"],[0.8888888888888888,\"#fdca26\"],[1.0,\"#f0f921\"]],\"diverging\":[[0,\"#8e0152\"],[0.1,\"#c51b7d\"],[0.2,\"#de77ae\"],[0.3,\"#f1b6da\"],[0.4,\"#fde0ef\"],[0.5,\"#f7f7f7\"],[0.6,\"#e6f5d0\"],[0.7,\"#b8e186\"],[0.8,\"#7fbc41\"],[0.9,\"#4d9221\"],[1,\"#276419\"]]},\"xaxis\":{\"gridcolor\":\"white\",\"linecolor\":\"white\",\"ticks\":\"\",\"title\":{\"standoff\":15},\"zerolinecolor\":\"white\",\"automargin\":true,\"zerolinewidth\":2},\"yaxis\":{\"gridcolor\":\"white\",\"linecolor\":\"white\",\"ticks\":\"\",\"title\":{\"standoff\":15},\"zerolinecolor\":\"white\",\"automargin\":true,\"zerolinewidth\":2},\"scene\":{\"xaxis\":{\"backgroundcolor\":\"#E5ECF6\",\"gridcolor\":\"white\",\"linecolor\":\"white\",\"showbackground\":true,\"ticks\":\"\",\"zerolinecolor\":\"white\",\"gridwidth\":2},\"yaxis\":{\"backgroundcolor\":\"#E5ECF6\",\"gridcolor\":\"white\",\"linecolor\":\"white\",\"showbackground\":true,\"ticks\":\"\",\"zerolinecolor\":\"white\",\"gridwidth\":2},\"zaxis\":{\"backgroundcolor\":\"#E5ECF6\",\"gridcolor\":\"white\",\"linecolor\":\"white\",\"showbackground\":true,\"ticks\":\"\",\"zerolinecolor\":\"white\",\"gridwidth\":2}},\"shapedefaults\":{\"line\":{\"color\":\"#2a3f5f\"}},\"annotationdefaults\":{\"arrowcolor\":\"#2a3f5f\",\"arrowhead\":0,\"arrowwidth\":1},\"geo\":{\"bgcolor\":\"white\",\"landcolor\":\"#E5ECF6\",\"subunitcolor\":\"white\",\"showland\":true,\"showlakes\":true,\"lakecolor\":\"white\"},\"title\":{\"x\":0.05},\"mapbox\":{\"style\":\"light\"}}},\"xaxis\":{\"anchor\":\"y\",\"domain\":[0.0,0.94],\"title\":{\"text\":\"time\"}},\"yaxis\":{\"anchor\":\"x\",\"domain\":[0.0,1.0],\"title\":{\"text\":\"7d_perf\"}},\"yaxis2\":{\"anchor\":\"x\",\"overlaying\":\"y\",\"side\":\"right\",\"title\":{\"text\":\"cum_tx_cost\"}}},                        {\"responsive\": true}                    ).then(function(){\n",
       "                            \n",
       "var gd = document.getElementById('911f794a-673f-4922-97b0-2b688a8aa0be');\n",
       "var x = new MutationObserver(function (mutations, observer) {{\n",
       "        var display = window.getComputedStyle(gd).display;\n",
       "        if (!display || display === 'none') {{\n",
       "            console.log([gd, 'removed!']);\n",
       "            Plotly.purge(gd);\n",
       "            observer.disconnect();\n",
       "        }}\n",
       "}});\n",
       "\n",
       "// Listen for the removal of the full notebook cells\n",
       "var notebookContainer = gd.closest('#notebook-container');\n",
       "if (notebookContainer) {{\n",
       "    x.observe(notebookContainer, {childList: true});\n",
       "}}\n",
       "\n",
       "// Listen for the clearing of the current output cell\n",
       "var outputEl = gd.closest('.output');\n",
       "if (outputEl) {{\n",
       "    x.observe(outputEl, {childList: true});\n",
       "}}\n",
       "\n",
       "                        })                };                });            </script>        </div>"
      ]
     },
     "metadata": {},
     "output_type": "display_data"
    }
   ],
   "source": [
    "conditions = {\n",
    "    'cap': 0.3,\n",
    "    'halflife': \"10d\",\n",
    "    'cost': 1e-3,\n",
    "    'gaz': 40,\n",
    "    'assumed_holding_days': 30,\n",
    "    'base_buffer': 0.1,\n",
    "    'concentration_limit': 0.5,\n",
    "}\n",
    "filename = \"C:/Users/david/singularity/midfreq/logs/{}_{}_{}_{}_{}_{}_{}__backtest.csv\".format(*conditions.values())\n",
    "backtest = pd.read_csv(filename)\n",
    "\n",
    "backtest['tx_cost'].iloc[0] = 0.001\n",
    "cum_tx_cost = backtest.cumsum()[\"tx_cost\"]\n",
    "cum_tx_cost.name = 'cum_tx_cost'\n",
    "apy_7d = (backtest[['wealth']] / backtest[['wealth']].shift(7) -1)*365/7*100\n",
    "\n",
    "subfig = make_subplots(specs=[[{\"secondary_y\": True}]])\n",
    "\n",
    "# create two independent figures with px.line each containing data from multiple columns\n",
    "fig = px.line(apy_7d,render_mode=\"webgl\",)\n",
    "fig2 = px.line(cum_tx_cost, render_mode=\"webgl\",)\n",
    "fig2.update_traces(yaxis=\"y2\")\n",
    "subfig.add_traces(fig.data + fig2.data)\n",
    "subfig.layout.xaxis.title = \"time\"\n",
    "subfig.layout.yaxis.title = \"7d_perf\"\n",
    "subfig.layout.yaxis2.title = \"cum_tx_cost\"\n",
    "\n",
    "# recoloring is necessary otherwise lines from fig und fig2 would share each color\n",
    "# e.g. Linear-, Log- = blue; Linear+, Log+ = red... we don't want this\n",
    "subfig.for_each_trace(lambda t: t.update(line=dict(color=t.marker.color)))\n",
    "subfig.show()"
   ]
  },
  {
   "cell_type": "markdown",
   "id": "571fa797",
   "metadata": {},
   "source": [
    "# heatmaps"
   ]
  },
  {
   "cell_type": "code",
   "execution_count": null,
   "id": "06d46502",
   "metadata": {},
   "outputs": [],
   "source": [
    "def color_pivot(table, selection=None):\n",
    "    # Define color mapping function\n",
    "    def color_negative_red(val):\n",
    "        color = 'red' if val < 0 else 'black'\n",
    "        return f'color: {color}'\n",
    "    selected = table[table['cap']==0.3 & table['haflife']==\"7d\" & table['cost']==1e-3 & table['gaz']==40 & table['concentration_limit']==0.5]\n",
    "    # Apply color mapping to pivot table\n",
    "    return selected.style.applymap(color_negative_red)\n",
    "def format_percent(val):\n",
    "    return f'{val:.2%}'"
   ]
  },
  {
   "cell_type": "code",
   "execution_count": null,
   "id": "57a0cc89",
   "metadata": {},
   "outputs": [],
   "source": [
    "grid['churn in d'] = grid.apply(lambda x: 365 * x['cost']/x['tx_cost*2']/100, axis=1)\n",
    "grid = grid.style.applymap(format_percent).data\n",
    "\n",
    "fig = plt.figure(figsize = (20,20)) # width x height\n",
    "pivot = list()\n",
    "ax = list()\n",
    "for i, values in enumerate(['perf', 'churn in d']):\n",
    "    for j, column in enumerate(['assumed_holding_days']):\n",
    "        df = grid.pivot_table(values=[values], index=['cost'], columns=[column])*100\n",
    "        ax = fig.add_subplot(3, 3, i+j+1)\n",
    "        ax.set_title(f'{values} by {column}')\n",
    "        sns.heatmap(data=df, ax=ax, square=True, cbar_kws={'shrink': .3}, annot=True, annot_kws={'fontsize': 12})"
   ]
  },
  {
   "cell_type": "code",
   "execution_count": null,
   "id": "70571b03",
   "metadata": {},
   "outputs": [],
   "source": [
    "sns.heatmap(pivot, annot=True)"
   ]
  },
  {
   "cell_type": "code",
   "execution_count": null,
   "id": "23e5f7c1",
   "metadata": {},
   "outputs": [],
   "source": [
    "import plotly.express as px\n",
    "from plotly.subplots import make_subplots\n",
    "import pandas as pd\n",
    "import numpy as np\n",
    "\n",
    "# create some data\n",
    "df = pd.DataFrame()\n",
    "n = 50\n",
    "df[\"Time\"] = np.arange(n)\n",
    "df[\"Linear-\"] = np.arange(n) + np.random.rand(n)\n",
    "df[\"Linear+\"] = np.arange(n) + np.random.rand(n)\n",
    "df[\"Log-\"] = np.arange(n) + np.random.rand(n)\n",
    "df[\"Log+\"] = np.arange(n) + np.random.rand(n)\n",
    "df.set_index(\"Time\", inplace=True)\n",
    "\n",
    "subfig = make_subplots(specs=[[{\"secondary_y\": True}]])\n",
    "\n",
    "# create two independent figures with px.line each containing data from multiple columns\n",
    "fig = px.line(df, y=df.filter(regex=\"Linear\").columns, render_mode=\"webgl\",)\n",
    "fig2 = px.line(df, y=df.filter(regex=\"Log\").columns, render_mode=\"webgl\",)\n",
    "\n",
    "fig2.update_traces(yaxis=\"y2\")\n",
    "\n",
    "subfig.add_traces(fig.data + fig2.data)\n",
    "subfig.layout.xaxis.title = \"Time\"\n",
    "subfig.layout.yaxis.title = \"Linear Y\"\n",
    "subfig.layout.yaxis2.type = \"log\"\n",
    "subfig.layout.yaxis2.title = \"Log Y\"\n",
    "\n",
    "# recoloring is necessary otherwise lines from fig und fig2 would share each color\n",
    "# e.g. Linear-, Log- = blue; Linear+, Log+ = red... we don't want this\n",
    "subfig.for_each_trace(lambda t: t.update(line=dict(color=t.marker.color)))\n",
    "subfig.show()\n"
   ]
  },
  {
   "cell_type": "code",
   "execution_count": null,
   "id": "872d5de5",
   "metadata": {},
   "outputs": [],
   "source": []
  }
 ],
 "metadata": {
  "kernelspec": {
   "display_name": "midfreq",
   "language": "python",
   "name": "midfreq"
  },
  "language_info": {
   "codemirror_mode": {
    "name": "ipython",
    "version": 3
   },
   "file_extension": ".py",
   "mimetype": "text/x-python",
   "name": "python",
   "nbconvert_exporter": "python",
   "pygments_lexer": "ipython3",
   "version": "3.9.5"
  }
 },
 "nbformat": 4,
 "nbformat_minor": 5
}
