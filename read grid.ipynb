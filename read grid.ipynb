{
 "cells": [
  {
   "cell_type": "markdown",
   "id": "9df4f6e2",
   "metadata": {},
   "source": [
    "# imports.."
   ]
  },
  {
   "cell_type": "code",
   "execution_count": 1,
   "id": "f355bf4a",
   "metadata": {},
   "outputs": [],
   "source": [
    "from research.research_engine import build_ResearchEngine\n",
    "from strategies.vault_rebalancing import YieldStrategy\n",
    "from strategies.vault_backtest import VaultBacktestEngine\n",
    "import json\n",
    "import yaml\n",
    "import pandas as pd\n",
    "from copy import deepcopy"
   ]
  },
  {
   "cell_type": "code",
   "execution_count": 2,
   "id": "22886015",
   "metadata": {},
   "outputs": [
    {
     "data": {
      "text/html": [
       "        <script type=\"text/javascript\">\n",
       "        window.PlotlyConfig = {MathJaxConfig: 'local'};\n",
       "        if (window.MathJax && window.MathJax.Hub && window.MathJax.Hub.Config) {window.MathJax.Hub.Config({SVG: {font: \"STIX-Web\"}});}\n",
       "        if (typeof require !== 'undefined') {\n",
       "        require.undef(\"plotly\");\n",
       "        requirejs.config({\n",
       "            paths: {\n",
       "                'plotly': ['https://cdn.plot.ly/plotly-2.25.2.min']\n",
       "            }\n",
       "        });\n",
       "        require(['plotly'], function(Plotly) {\n",
       "            window._Plotly = Plotly;\n",
       "        });\n",
       "        }\n",
       "        </script>\n",
       "        "
      ]
     },
     "metadata": {},
     "output_type": "display_data"
    }
   ],
   "source": [
    "import seaborn as sns\n",
    "import matplotlib.pyplot as plt\n",
    "%matplotlib inline\n",
    "import plotly.express as px\n",
    "from plotly.subplots import make_subplots\n",
    "import cufflinks as cf\n",
    "cf.go_offline()\n",
    "cf.set_config_file(offline=False, world_readable=True)"
   ]
  },
  {
   "cell_type": "markdown",
   "id": "05f7410c",
   "metadata": {},
   "source": [
    "# load data"
   ]
  },
  {
   "cell_type": "code",
   "execution_count": 3,
   "id": "b09e9632",
   "metadata": {},
   "outputs": [
    {
     "data": {
      "text/plain": [
       "{'747c1d2a-c668-4682-b9f9-296708a3dd90': 'lido_STETH',\n",
       " 'd4b3c522-6127-4b89-bedf-83641cdcd2eb': 'rocket-pool_RETH',\n",
       " 'e6435aae-cbe9-4d26-ab2c-a4d533db9972': 'aave-v3_WSTETH',\n",
       " '77020688-e1f9-443c-9388-e51ace15cc32': 'frax-ether_SFRXETH',\n",
       " '5ce23e7e-3800-4c9c-ad30-6db3db0515a1': 'convex-finance_ETH-STETH',\n",
       " '42c02674-f7a2-4cb0-be3d-ade268838770': 'balancer-v2_RETH-WETH',\n",
       " 'e378a7c2-6285-4993-9397-87ac9c8adc15': 'convex-finance_ETH-STETH',\n",
       " 'f1a22245-a1f1-4389-8ff2-dde4914b272d': 'aave-v3_RETH',\n",
       " '4cc5df76-f81d-49fe-9e1e-4caa6a8dad0b': 'balancer-v2_WSTETH-WETH',\n",
       " 'fc7701fc-e290-4606-a8be-9e4ba6c5f91a': 'convex-finance_ETH-RETH',\n",
       " 'c9873dab-0979-478c-b48c-3c3a0c935449': 'convex-finance_STETH-FRXETH'}"
      ]
     },
     "execution_count": 3,
     "metadata": {},
     "output_type": "execute_result"
    }
   ],
   "source": [
    "metadata = pd.read_csv(\"C:/Users/david/singularity/midfreq/scrappers/defillama_history/data/DynLst_pool_metadata.csv\")\n",
    "with open(\"C:/Users/david/singularity/midfreq/config/dynlst.yaml\") as file:\n",
    "    parameters= yaml.safe_load(file)\n",
    "pool_map = metadata.loc[metadata['pool'].isin(parameters['input_data']['selected_instruments']),['pool','project','symbol']].set_index('pool').T.to_dict()\n",
    "pool_map = {key: '{}_{}'.format(x['project'], x['symbol']) for key, x in pool_map.items()}\n",
    "index_map = {f'weight_{i}': f'w_{value}' for i, value in enumerate(pool_map.values())}\n",
    "index_map |= {f'yield_{i}': f'y_{value}' for i, value in enumerate(pool_map.values())} \n",
    "pool_map"
   ]
  },
  {
   "cell_type": "markdown",
   "id": "2bfaf4d7",
   "metadata": {},
   "source": [
    "### typical params backest"
   ]
  },
  {
   "cell_type": "code",
   "execution_count": 4,
   "id": "7509dd0d",
   "metadata": {},
   "outputs": [
    {
     "data": {
      "application/vnd.plotly.v1+json": {
       "config": {
        "plotlyServerURL": "https://plot.ly"
       },
       "data": [
        {
         "hovertemplate": "variable=wealth<br>index=%{x}<br>value=%{y}<extra></extra>",
         "legendgroup": "wealth",
         "line": {
          "dash": "solid"
         },
         "marker": {
          "symbol": "circle"
         },
         "mode": "lines",
         "name": "wealth",
         "showlegend": true,
         "type": "scattergl",
         "x": [
          0,
          1,
          2,
          3,
          4,
          5,
          6,
          7,
          8,
          9,
          10,
          11,
          12,
          13,
          14,
          15,
          16,
          17,
          18,
          19,
          20,
          21,
          22,
          23,
          24,
          25,
          26,
          27,
          28,
          29,
          30,
          31,
          32,
          33,
          34,
          35,
          36,
          37,
          38,
          39,
          40,
          41,
          42,
          43,
          44,
          45,
          46,
          47,
          48,
          49,
          50,
          51,
          52,
          53,
          54,
          55,
          56,
          57,
          58,
          59,
          60,
          61,
          62,
          63,
          64,
          65,
          66,
          67,
          68,
          69,
          70,
          71,
          72,
          73,
          74,
          75,
          76,
          77,
          78,
          79,
          80,
          81,
          82,
          83,
          84,
          85,
          86,
          87,
          88,
          89,
          90,
          91,
          92,
          93,
          94,
          95,
          96,
          97,
          98,
          99,
          100,
          101,
          102,
          103,
          104,
          105,
          106,
          107,
          108,
          109,
          110,
          111,
          112,
          113,
          114,
          115,
          116,
          117,
          118,
          119,
          120,
          121,
          122,
          123,
          124,
          125,
          126,
          127,
          128,
          129,
          130,
          131,
          132,
          133,
          134,
          135,
          136,
          137,
          138,
          139,
          140,
          141,
          142,
          143,
          144,
          145,
          146,
          147,
          148,
          149,
          150,
          151,
          152,
          153,
          154,
          155,
          156,
          157,
          158,
          159,
          160,
          161,
          162,
          163,
          164,
          165,
          166,
          167,
          168,
          169,
          170,
          171,
          172,
          173,
          174,
          175,
          176,
          177,
          178
         ],
         "xaxis": "x",
         "y": [
          null,
          null,
          null,
          null,
          null,
          null,
          null,
          0.8171131342171258,
          6.767624550692797,
          6.764158847626854,
          6.516462116358558,
          6.3021335854584555,
          6.087345670306935,
          5.919757016745598,
          5.748264663734951,
          5.2876331037606645,
          5.195034700782784,
          5.253080491767838,
          5.290308224844981,
          5.346659158750084,
          5.40949123064795,
          5.5011128133763485,
          5.86911086997764,
          5.8698181773688685,
          6.464830379745671,
          7.06329627316168,
          7.638453457344739,
          8.161613057882766,
          8.37382310354229,
          8.871304713539569,
          9.350005180521473,
          8.763577130130445,
          8.164001932127787,
          7.581910124538317,
          7.045289091928919,
          6.79752182561585,
          6.278324462042033,
          5.7807528292191455,
          5.649573814213208,
          5.522494431307733,
          5.406403203733328,
          5.306804418337276,
          5.2199794434492075,
          5.128123580300586,
          5.026539198378065,
          5.0189002856698215,
          5.01965366736225,
          5.015575903566399,
          5.0192035696750334,
          5.025338224669234,
          5.04228246786133,
          5.066987858638826,
          5.037512539738799,
          5.0000189952542,
          4.947400650805313,
          4.868351847278645,
          4.768833145249055,
          4.665646023198094,
          4.574056008491605,
          4.593946681945301,
          4.637149437372923,
          4.690510278451084,
          4.757852766845848,
          4.830058703830147,
          4.891118008523725,
          4.941875458241255,
          5.088885488910463,
          5.212118918113779,
          5.3283763411737475,
          5.443872446972277,
          5.57460120299848,
          5.713999506839056,
          5.843987280836983,
          5.833057880361465,
          5.82759590775539,
          5.8333441221434725,
          5.513896806879447,
          5.560318572621102,
          5.299007210981833,
          5.078353876062226,
          5.60325425511191,
          6.118277483245972,
          6.306243031184448,
          6.819817702706787,
          7.199291045810741,
          7.857008842856894,
          8.474251005490295,
          8.049352475800282,
          7.608776231175206,
          7.5005232338372725,
          7.371578217955833,
          6.998407783488052,
          6.636070122909232,
          6.287923483205568,
          6.106854783375994,
          5.664029544473648,
          5.071671188446774,
          4.155536334504241,
          3.5174398086886507,
          3.3483364130105144,
          3.4624279504112474,
          3.662045087584894,
          4.144133339857636,
          4.785340198068834,
          5.742102007255366,
          6.418251803641876,
          6.6367962393291124,
          6.003051363621765,
          5.52928035120191,
          5.19174031580321,
          5.129285207588073,
          5.37018345840033,
          5.2024285921403575,
          4.815797555544066,
          5.211882038909828,
          5.945442327401478,
          6.238999845936614,
          6.649312269189823,
          6.701013575358192,
          7.156357431016645,
          7.906347799725115,
          8.3946833030663,
          8.382043166418693,
          8.677980946593523,
          8.548785896802936,
          8.48373082980114,
          8.399318514696997,
          8.309486834311018,
          8.258511809238152,
          8.217800235816197,
          8.252491754113388,
          8.327824048449054,
          8.353608521344798,
          8.392030418156821,
          8.375504517261449,
          8.365612295826965,
          8.35457873822698,
          8.305502375214974,
          8.23022192731052,
          8.216253873666615,
          8.230064768068456,
          8.235490683772369,
          8.232314777465444,
          8.34800023842359,
          8.34434610753189,
          8.341531577327453,
          8.318810697125732,
          8.309775565750252,
          8.378987515350156,
          8.442426542576305,
          8.383851761987367,
          8.466279087790408,
          38.333833372550174,
          37.57584746494393,
          37.986163266426104,
          38.313038877205486,
          38.714408362646616,
          39.10428907321234,
          39.4949571295574,
          10.153601323727033,
          11.468501261376186,
          12.302259917016595,
          13.331096971713244,
          14.183923523324982,
          14.600798355361528,
          14.243873412994775,
          14.641201705345535,
          15.319871626646275,
          15.578117590773052,
          15.06639947500965,
          15.0100319101588,
          15.137606618006751,
          15.824643638797589,
          15.610222332778392,
          15.101760378515754,
          14.270312923347825,
          13.970042422557125,
          13.235665569804029,
          12.817950902100424
         ],
         "yaxis": "y"
        },
        {
         "hovertemplate": "variable=cum_tx_cost<br>index=%{x}<br>value=%{y}<extra></extra>",
         "legendgroup": "cum_tx_cost",
         "line": {
          "dash": "solid"
         },
         "marker": {
          "symbol": "circle"
         },
         "mode": "lines",
         "name": "cum_tx_cost",
         "showlegend": true,
         "type": "scattergl",
         "x": [
          0,
          1,
          2,
          3,
          4,
          5,
          6,
          7,
          8,
          9,
          10,
          11,
          12,
          13,
          14,
          15,
          16,
          17,
          18,
          19,
          20,
          21,
          22,
          23,
          24,
          25,
          26,
          27,
          28,
          29,
          30,
          31,
          32,
          33,
          34,
          35,
          36,
          37,
          38,
          39,
          40,
          41,
          42,
          43,
          44,
          45,
          46,
          47,
          48,
          49,
          50,
          51,
          52,
          53,
          54,
          55,
          56,
          57,
          58,
          59,
          60,
          61,
          62,
          63,
          64,
          65,
          66,
          67,
          68,
          69,
          70,
          71,
          72,
          73,
          74,
          75,
          76,
          77,
          78,
          79,
          80,
          81,
          82,
          83,
          84,
          85,
          86,
          87,
          88,
          89,
          90,
          91,
          92,
          93,
          94,
          95,
          96,
          97,
          98,
          99,
          100,
          101,
          102,
          103,
          104,
          105,
          106,
          107,
          108,
          109,
          110,
          111,
          112,
          113,
          114,
          115,
          116,
          117,
          118,
          119,
          120,
          121,
          122,
          123,
          124,
          125,
          126,
          127,
          128,
          129,
          130,
          131,
          132,
          133,
          134,
          135,
          136,
          137,
          138,
          139,
          140,
          141,
          142,
          143,
          144,
          145,
          146,
          147,
          148,
          149,
          150,
          151,
          152,
          153,
          154,
          155,
          156,
          157,
          158,
          159,
          160,
          161,
          162,
          163,
          164,
          165,
          166,
          167,
          168,
          169,
          170,
          171,
          172,
          173,
          174,
          175,
          176,
          177,
          178
         ],
         "xaxis": "x",
         "y": [
          0.001,
          0.001,
          0.001,
          0.001,
          0.001,
          0.001,
          0.001,
          0.001,
          0.001,
          0.001,
          0.001,
          0.001,
          0.001,
          0.001,
          24.017520048603128,
          24.017520048603128,
          24.017520048603128,
          24.017520048603128,
          24.017520048603128,
          24.017520048603128,
          24.017520048603128,
          24.017520048603128,
          24.017520048603128,
          24.017520048603128,
          24.017520048603128,
          24.017520048603128,
          24.017520048603128,
          41.099812647528495,
          41.099812647528495,
          41.099812647528495,
          41.099812647528495,
          41.099812647528495,
          41.099812647528495,
          41.099812647528495,
          41.099812647528495,
          41.099812647528495,
          41.099812647528495,
          41.099812647528495,
          41.099812647528495,
          41.099812647528495,
          41.099812647528495,
          41.099812647528495,
          41.099812647528495,
          41.099812647528495,
          41.099812647528495,
          41.099812647528495,
          41.099812647528495,
          41.099812647528495,
          41.099812647528495,
          41.099812647528495,
          41.099812647528495,
          41.099812647528495,
          41.099812647528495,
          41.099812647528495,
          41.099812647528495,
          41.099812647528495,
          41.099812647528495,
          41.099812647528495,
          41.099812647528495,
          41.099812647528495,
          41.099812647528495,
          41.099812647528495,
          41.099812647528495,
          41.099812647528495,
          41.099812647528495,
          41.099812647528495,
          41.099812647528495,
          41.099812647528495,
          41.099812647528495,
          41.099812647528495,
          41.099812647528495,
          41.099812647528495,
          41.099812647528495,
          41.099812647528495,
          41.099812647528495,
          70.41845172710218,
          70.41845172710218,
          95.01844102058315,
          124.62808068550767,
          124.62808068550767,
          124.62808068550767,
          143.78625489561384,
          159.86974081565288,
          159.86974081565288,
          159.86974081565288,
          159.86974081565288,
          159.86974081565288,
          159.86974081565288,
          159.86974081565288,
          159.86974081565288,
          159.86974081565288,
          159.86974081565288,
          159.86974081565288,
          159.86974081565288,
          179.00362500779127,
          234.67785195417702,
          386.36499959002674,
          504.8423428870067,
          524.0592769763051,
          524.0592769763051,
          524.0592769763051,
          524.0592769763051,
          524.0592769763051,
          524.0592769763051,
          524.0592769763051,
          524.0592769763051,
          729.6703167958985,
          837.8654033360316,
          942.6915972043132,
          967.5042974381793,
          967.5042974381793,
          1000.7809146547779,
          1091.9343988806472,
          1138.4247857020814,
          1138.4247857020814,
          1177.624520812249,
          1177.624520812249,
          1177.624520812249,
          1177.624520812249,
          1177.624520812249,
          1177.624520812249,
          1177.624520812249,
          1177.624520812249,
          1177.624520812249,
          1177.624520812249,
          1177.624520812249,
          1177.624520812249,
          1177.624520812249,
          1177.624520812249,
          1177.624520812249,
          1177.624520812249,
          1177.624520812249,
          1177.624520812249,
          1177.624520812249,
          1177.624520812249,
          1177.624520812249,
          1177.624520812249,
          1177.624520812249,
          1177.624520812249,
          1177.624520812249,
          1177.624520812249,
          1177.624520812249,
          1177.624520812249,
          1177.624520812249,
          1177.624520812249,
          1177.624520812249,
          1177.624520812249,
          1177.624520812249,
          1177.624520812249,
          1177.624520812249,
          1177.624520812249,
          1532.8630985452346,
          1731.9692022182692,
          1731.9692022182692,
          1731.9692022182692,
          1731.9692022182692,
          1731.9692022182692,
          1731.9692022182692,
          1731.9692022182692,
          1731.9692022182692,
          1731.9692022182692,
          1731.9692022182692,
          1731.9692022182692,
          1756.9930329034173,
          1954.4784536088623,
          1997.1340787336555,
          1997.1340787336555,
          1997.1340787336555,
          1997.1340787336555,
          1997.1340787336555,
          1997.1340787336555,
          1997.1340787336555,
          1997.1340787336555,
          1997.1340787336555,
          1997.1340787336555,
          1997.1340787336555,
          1997.1340787336555,
          1997.1340787336555,
          1997.1340787336555
         ],
         "yaxis": "y2"
        }
       ],
       "layout": {
        "template": {
         "data": {
          "bar": [
           {
            "error_x": {
             "color": "#2a3f5f"
            },
            "error_y": {
             "color": "#2a3f5f"
            },
            "marker": {
             "line": {
              "color": "#E5ECF6",
              "width": 0.5
             },
             "pattern": {
              "fillmode": "overlay",
              "size": 10,
              "solidity": 0.2
             }
            },
            "type": "bar"
           }
          ],
          "barpolar": [
           {
            "marker": {
             "line": {
              "color": "#E5ECF6",
              "width": 0.5
             },
             "pattern": {
              "fillmode": "overlay",
              "size": 10,
              "solidity": 0.2
             }
            },
            "type": "barpolar"
           }
          ],
          "carpet": [
           {
            "aaxis": {
             "endlinecolor": "#2a3f5f",
             "gridcolor": "white",
             "linecolor": "white",
             "minorgridcolor": "white",
             "startlinecolor": "#2a3f5f"
            },
            "baxis": {
             "endlinecolor": "#2a3f5f",
             "gridcolor": "white",
             "linecolor": "white",
             "minorgridcolor": "white",
             "startlinecolor": "#2a3f5f"
            },
            "type": "carpet"
           }
          ],
          "choropleth": [
           {
            "colorbar": {
             "outlinewidth": 0,
             "ticks": ""
            },
            "type": "choropleth"
           }
          ],
          "contour": [
           {
            "colorbar": {
             "outlinewidth": 0,
             "ticks": ""
            },
            "colorscale": [
             [
              0,
              "#0d0887"
             ],
             [
              0.1111111111111111,
              "#46039f"
             ],
             [
              0.2222222222222222,
              "#7201a8"
             ],
             [
              0.3333333333333333,
              "#9c179e"
             ],
             [
              0.4444444444444444,
              "#bd3786"
             ],
             [
              0.5555555555555556,
              "#d8576b"
             ],
             [
              0.6666666666666666,
              "#ed7953"
             ],
             [
              0.7777777777777778,
              "#fb9f3a"
             ],
             [
              0.8888888888888888,
              "#fdca26"
             ],
             [
              1,
              "#f0f921"
             ]
            ],
            "type": "contour"
           }
          ],
          "contourcarpet": [
           {
            "colorbar": {
             "outlinewidth": 0,
             "ticks": ""
            },
            "type": "contourcarpet"
           }
          ],
          "heatmap": [
           {
            "colorbar": {
             "outlinewidth": 0,
             "ticks": ""
            },
            "colorscale": [
             [
              0,
              "#0d0887"
             ],
             [
              0.1111111111111111,
              "#46039f"
             ],
             [
              0.2222222222222222,
              "#7201a8"
             ],
             [
              0.3333333333333333,
              "#9c179e"
             ],
             [
              0.4444444444444444,
              "#bd3786"
             ],
             [
              0.5555555555555556,
              "#d8576b"
             ],
             [
              0.6666666666666666,
              "#ed7953"
             ],
             [
              0.7777777777777778,
              "#fb9f3a"
             ],
             [
              0.8888888888888888,
              "#fdca26"
             ],
             [
              1,
              "#f0f921"
             ]
            ],
            "type": "heatmap"
           }
          ],
          "heatmapgl": [
           {
            "colorbar": {
             "outlinewidth": 0,
             "ticks": ""
            },
            "colorscale": [
             [
              0,
              "#0d0887"
             ],
             [
              0.1111111111111111,
              "#46039f"
             ],
             [
              0.2222222222222222,
              "#7201a8"
             ],
             [
              0.3333333333333333,
              "#9c179e"
             ],
             [
              0.4444444444444444,
              "#bd3786"
             ],
             [
              0.5555555555555556,
              "#d8576b"
             ],
             [
              0.6666666666666666,
              "#ed7953"
             ],
             [
              0.7777777777777778,
              "#fb9f3a"
             ],
             [
              0.8888888888888888,
              "#fdca26"
             ],
             [
              1,
              "#f0f921"
             ]
            ],
            "type": "heatmapgl"
           }
          ],
          "histogram": [
           {
            "marker": {
             "pattern": {
              "fillmode": "overlay",
              "size": 10,
              "solidity": 0.2
             }
            },
            "type": "histogram"
           }
          ],
          "histogram2d": [
           {
            "colorbar": {
             "outlinewidth": 0,
             "ticks": ""
            },
            "colorscale": [
             [
              0,
              "#0d0887"
             ],
             [
              0.1111111111111111,
              "#46039f"
             ],
             [
              0.2222222222222222,
              "#7201a8"
             ],
             [
              0.3333333333333333,
              "#9c179e"
             ],
             [
              0.4444444444444444,
              "#bd3786"
             ],
             [
              0.5555555555555556,
              "#d8576b"
             ],
             [
              0.6666666666666666,
              "#ed7953"
             ],
             [
              0.7777777777777778,
              "#fb9f3a"
             ],
             [
              0.8888888888888888,
              "#fdca26"
             ],
             [
              1,
              "#f0f921"
             ]
            ],
            "type": "histogram2d"
           }
          ],
          "histogram2dcontour": [
           {
            "colorbar": {
             "outlinewidth": 0,
             "ticks": ""
            },
            "colorscale": [
             [
              0,
              "#0d0887"
             ],
             [
              0.1111111111111111,
              "#46039f"
             ],
             [
              0.2222222222222222,
              "#7201a8"
             ],
             [
              0.3333333333333333,
              "#9c179e"
             ],
             [
              0.4444444444444444,
              "#bd3786"
             ],
             [
              0.5555555555555556,
              "#d8576b"
             ],
             [
              0.6666666666666666,
              "#ed7953"
             ],
             [
              0.7777777777777778,
              "#fb9f3a"
             ],
             [
              0.8888888888888888,
              "#fdca26"
             ],
             [
              1,
              "#f0f921"
             ]
            ],
            "type": "histogram2dcontour"
           }
          ],
          "mesh3d": [
           {
            "colorbar": {
             "outlinewidth": 0,
             "ticks": ""
            },
            "type": "mesh3d"
           }
          ],
          "parcoords": [
           {
            "line": {
             "colorbar": {
              "outlinewidth": 0,
              "ticks": ""
             }
            },
            "type": "parcoords"
           }
          ],
          "pie": [
           {
            "automargin": true,
            "type": "pie"
           }
          ],
          "scatter": [
           {
            "fillpattern": {
             "fillmode": "overlay",
             "size": 10,
             "solidity": 0.2
            },
            "type": "scatter"
           }
          ],
          "scatter3d": [
           {
            "line": {
             "colorbar": {
              "outlinewidth": 0,
              "ticks": ""
             }
            },
            "marker": {
             "colorbar": {
              "outlinewidth": 0,
              "ticks": ""
             }
            },
            "type": "scatter3d"
           }
          ],
          "scattercarpet": [
           {
            "marker": {
             "colorbar": {
              "outlinewidth": 0,
              "ticks": ""
             }
            },
            "type": "scattercarpet"
           }
          ],
          "scattergeo": [
           {
            "marker": {
             "colorbar": {
              "outlinewidth": 0,
              "ticks": ""
             }
            },
            "type": "scattergeo"
           }
          ],
          "scattergl": [
           {
            "marker": {
             "colorbar": {
              "outlinewidth": 0,
              "ticks": ""
             }
            },
            "type": "scattergl"
           }
          ],
          "scattermapbox": [
           {
            "marker": {
             "colorbar": {
              "outlinewidth": 0,
              "ticks": ""
             }
            },
            "type": "scattermapbox"
           }
          ],
          "scatterpolar": [
           {
            "marker": {
             "colorbar": {
              "outlinewidth": 0,
              "ticks": ""
             }
            },
            "type": "scatterpolar"
           }
          ],
          "scatterpolargl": [
           {
            "marker": {
             "colorbar": {
              "outlinewidth": 0,
              "ticks": ""
             }
            },
            "type": "scatterpolargl"
           }
          ],
          "scatterternary": [
           {
            "marker": {
             "colorbar": {
              "outlinewidth": 0,
              "ticks": ""
             }
            },
            "type": "scatterternary"
           }
          ],
          "surface": [
           {
            "colorbar": {
             "outlinewidth": 0,
             "ticks": ""
            },
            "colorscale": [
             [
              0,
              "#0d0887"
             ],
             [
              0.1111111111111111,
              "#46039f"
             ],
             [
              0.2222222222222222,
              "#7201a8"
             ],
             [
              0.3333333333333333,
              "#9c179e"
             ],
             [
              0.4444444444444444,
              "#bd3786"
             ],
             [
              0.5555555555555556,
              "#d8576b"
             ],
             [
              0.6666666666666666,
              "#ed7953"
             ],
             [
              0.7777777777777778,
              "#fb9f3a"
             ],
             [
              0.8888888888888888,
              "#fdca26"
             ],
             [
              1,
              "#f0f921"
             ]
            ],
            "type": "surface"
           }
          ],
          "table": [
           {
            "cells": {
             "fill": {
              "color": "#EBF0F8"
             },
             "line": {
              "color": "white"
             }
            },
            "header": {
             "fill": {
              "color": "#C8D4E3"
             },
             "line": {
              "color": "white"
             }
            },
            "type": "table"
           }
          ]
         },
         "layout": {
          "annotationdefaults": {
           "arrowcolor": "#2a3f5f",
           "arrowhead": 0,
           "arrowwidth": 1
          },
          "autotypenumbers": "strict",
          "coloraxis": {
           "colorbar": {
            "outlinewidth": 0,
            "ticks": ""
           }
          },
          "colorscale": {
           "diverging": [
            [
             0,
             "#8e0152"
            ],
            [
             0.1,
             "#c51b7d"
            ],
            [
             0.2,
             "#de77ae"
            ],
            [
             0.3,
             "#f1b6da"
            ],
            [
             0.4,
             "#fde0ef"
            ],
            [
             0.5,
             "#f7f7f7"
            ],
            [
             0.6,
             "#e6f5d0"
            ],
            [
             0.7,
             "#b8e186"
            ],
            [
             0.8,
             "#7fbc41"
            ],
            [
             0.9,
             "#4d9221"
            ],
            [
             1,
             "#276419"
            ]
           ],
           "sequential": [
            [
             0,
             "#0d0887"
            ],
            [
             0.1111111111111111,
             "#46039f"
            ],
            [
             0.2222222222222222,
             "#7201a8"
            ],
            [
             0.3333333333333333,
             "#9c179e"
            ],
            [
             0.4444444444444444,
             "#bd3786"
            ],
            [
             0.5555555555555556,
             "#d8576b"
            ],
            [
             0.6666666666666666,
             "#ed7953"
            ],
            [
             0.7777777777777778,
             "#fb9f3a"
            ],
            [
             0.8888888888888888,
             "#fdca26"
            ],
            [
             1,
             "#f0f921"
            ]
           ],
           "sequentialminus": [
            [
             0,
             "#0d0887"
            ],
            [
             0.1111111111111111,
             "#46039f"
            ],
            [
             0.2222222222222222,
             "#7201a8"
            ],
            [
             0.3333333333333333,
             "#9c179e"
            ],
            [
             0.4444444444444444,
             "#bd3786"
            ],
            [
             0.5555555555555556,
             "#d8576b"
            ],
            [
             0.6666666666666666,
             "#ed7953"
            ],
            [
             0.7777777777777778,
             "#fb9f3a"
            ],
            [
             0.8888888888888888,
             "#fdca26"
            ],
            [
             1,
             "#f0f921"
            ]
           ]
          },
          "colorway": [
           "#636efa",
           "#EF553B",
           "#00cc96",
           "#ab63fa",
           "#FFA15A",
           "#19d3f3",
           "#FF6692",
           "#B6E880",
           "#FF97FF",
           "#FECB52"
          ],
          "font": {
           "color": "#2a3f5f"
          },
          "geo": {
           "bgcolor": "white",
           "lakecolor": "white",
           "landcolor": "#E5ECF6",
           "showlakes": true,
           "showland": true,
           "subunitcolor": "white"
          },
          "hoverlabel": {
           "align": "left"
          },
          "hovermode": "closest",
          "mapbox": {
           "style": "light"
          },
          "paper_bgcolor": "white",
          "plot_bgcolor": "#E5ECF6",
          "polar": {
           "angularaxis": {
            "gridcolor": "white",
            "linecolor": "white",
            "ticks": ""
           },
           "bgcolor": "#E5ECF6",
           "radialaxis": {
            "gridcolor": "white",
            "linecolor": "white",
            "ticks": ""
           }
          },
          "scene": {
           "xaxis": {
            "backgroundcolor": "#E5ECF6",
            "gridcolor": "white",
            "gridwidth": 2,
            "linecolor": "white",
            "showbackground": true,
            "ticks": "",
            "zerolinecolor": "white"
           },
           "yaxis": {
            "backgroundcolor": "#E5ECF6",
            "gridcolor": "white",
            "gridwidth": 2,
            "linecolor": "white",
            "showbackground": true,
            "ticks": "",
            "zerolinecolor": "white"
           },
           "zaxis": {
            "backgroundcolor": "#E5ECF6",
            "gridcolor": "white",
            "gridwidth": 2,
            "linecolor": "white",
            "showbackground": true,
            "ticks": "",
            "zerolinecolor": "white"
           }
          },
          "shapedefaults": {
           "line": {
            "color": "#2a3f5f"
           }
          },
          "ternary": {
           "aaxis": {
            "gridcolor": "white",
            "linecolor": "white",
            "ticks": ""
           },
           "baxis": {
            "gridcolor": "white",
            "linecolor": "white",
            "ticks": ""
           },
           "bgcolor": "#E5ECF6",
           "caxis": {
            "gridcolor": "white",
            "linecolor": "white",
            "ticks": ""
           }
          },
          "title": {
           "x": 0.05
          },
          "xaxis": {
           "automargin": true,
           "gridcolor": "white",
           "linecolor": "white",
           "ticks": "",
           "title": {
            "standoff": 15
           },
           "zerolinecolor": "white",
           "zerolinewidth": 2
          },
          "yaxis": {
           "automargin": true,
           "gridcolor": "white",
           "linecolor": "white",
           "ticks": "",
           "title": {
            "standoff": 15
           },
           "zerolinecolor": "white",
           "zerolinewidth": 2
          }
         }
        },
        "xaxis": {
         "anchor": "y",
         "domain": [
          0,
          0.94
         ],
         "title": {
          "text": "time"
         }
        },
        "yaxis": {
         "anchor": "x",
         "domain": [
          0,
          1
         ],
         "title": {
          "text": "7d_perf"
         }
        },
        "yaxis2": {
         "anchor": "x",
         "overlaying": "y",
         "side": "right",
         "title": {
          "text": "cum_tx_cost"
         }
        }
       }
      },
      "text/html": [
       "<div>                            <div id=\"ed287bdc-9373-4dde-8c45-f95366f18c5f\" class=\"plotly-graph-div\" style=\"height:525px; width:100%;\"></div>            <script type=\"text/javascript\">                require([\"plotly\"], function(Plotly) {                    window.PLOTLYENV=window.PLOTLYENV || {};                                    if (document.getElementById(\"ed287bdc-9373-4dde-8c45-f95366f18c5f\")) {                    Plotly.newPlot(                        \"ed287bdc-9373-4dde-8c45-f95366f18c5f\",                        [{\"hovertemplate\":\"variable=wealth\\u003cbr\\u003eindex=%{x}\\u003cbr\\u003evalue=%{y}\\u003cextra\\u003e\\u003c\\u002fextra\\u003e\",\"legendgroup\":\"wealth\",\"line\":{\"dash\":\"solid\"},\"marker\":{\"symbol\":\"circle\"},\"mode\":\"lines\",\"name\":\"wealth\",\"showlegend\":true,\"x\":[0,1,2,3,4,5,6,7,8,9,10,11,12,13,14,15,16,17,18,19,20,21,22,23,24,25,26,27,28,29,30,31,32,33,34,35,36,37,38,39,40,41,42,43,44,45,46,47,48,49,50,51,52,53,54,55,56,57,58,59,60,61,62,63,64,65,66,67,68,69,70,71,72,73,74,75,76,77,78,79,80,81,82,83,84,85,86,87,88,89,90,91,92,93,94,95,96,97,98,99,100,101,102,103,104,105,106,107,108,109,110,111,112,113,114,115,116,117,118,119,120,121,122,123,124,125,126,127,128,129,130,131,132,133,134,135,136,137,138,139,140,141,142,143,144,145,146,147,148,149,150,151,152,153,154,155,156,157,158,159,160,161,162,163,164,165,166,167,168,169,170,171,172,173,174,175,176,177,178],\"xaxis\":\"x\",\"y\":[null,null,null,null,null,null,null,0.8171131342171258,6.767624550692797,6.764158847626854,6.516462116358558,6.3021335854584555,6.087345670306935,5.919757016745598,5.748264663734951,5.2876331037606645,5.195034700782784,5.253080491767838,5.290308224844981,5.346659158750084,5.40949123064795,5.5011128133763485,5.86911086997764,5.8698181773688685,6.464830379745671,7.06329627316168,7.638453457344739,8.161613057882766,8.37382310354229,8.871304713539569,9.350005180521473,8.763577130130445,8.164001932127787,7.581910124538317,7.045289091928919,6.79752182561585,6.278324462042033,5.7807528292191455,5.649573814213208,5.522494431307733,5.406403203733328,5.306804418337276,5.2199794434492075,5.128123580300586,5.026539198378065,5.0189002856698215,5.01965366736225,5.015575903566399,5.0192035696750334,5.025338224669234,5.04228246786133,5.066987858638826,5.037512539738799,5.0000189952542,4.947400650805313,4.868351847278645,4.768833145249055,4.665646023198094,4.574056008491605,4.593946681945301,4.637149437372923,4.690510278451084,4.757852766845848,4.830058703830147,4.891118008523725,4.941875458241255,5.088885488910463,5.212118918113779,5.3283763411737475,5.443872446972277,5.57460120299848,5.713999506839056,5.843987280836983,5.833057880361465,5.82759590775539,5.8333441221434725,5.513896806879447,5.560318572621102,5.299007210981833,5.078353876062226,5.60325425511191,6.118277483245972,6.306243031184448,6.819817702706787,7.199291045810741,7.857008842856894,8.474251005490295,8.049352475800282,7.608776231175206,7.5005232338372725,7.371578217955833,6.998407783488052,6.636070122909232,6.287923483205568,6.106854783375994,5.664029544473648,5.071671188446774,4.155536334504241,3.5174398086886507,3.3483364130105144,3.4624279504112474,3.662045087584894,4.144133339857636,4.785340198068834,5.742102007255366,6.418251803641876,6.6367962393291124,6.003051363621765,5.52928035120191,5.19174031580321,5.129285207588073,5.37018345840033,5.2024285921403575,4.815797555544066,5.211882038909828,5.945442327401478,6.238999845936614,6.649312269189823,6.701013575358192,7.156357431016645,7.906347799725115,8.3946833030663,8.382043166418693,8.677980946593523,8.548785896802936,8.48373082980114,8.399318514696997,8.309486834311018,8.258511809238152,8.217800235816197,8.252491754113388,8.327824048449054,8.353608521344798,8.392030418156821,8.375504517261449,8.365612295826965,8.35457873822698,8.305502375214974,8.23022192731052,8.216253873666615,8.230064768068456,8.235490683772369,8.232314777465444,8.34800023842359,8.34434610753189,8.341531577327453,8.318810697125732,8.309775565750252,8.378987515350156,8.442426542576305,8.383851761987367,8.466279087790408,38.333833372550174,37.57584746494393,37.986163266426104,38.313038877205486,38.714408362646616,39.10428907321234,39.4949571295574,10.153601323727033,11.468501261376186,12.302259917016595,13.331096971713244,14.183923523324982,14.600798355361528,14.243873412994775,14.641201705345535,15.319871626646275,15.578117590773052,15.06639947500965,15.0100319101588,15.137606618006751,15.824643638797589,15.610222332778392,15.101760378515754,14.270312923347825,13.970042422557125,13.235665569804029,12.817950902100424],\"yaxis\":\"y\",\"type\":\"scattergl\"},{\"hovertemplate\":\"variable=cum_tx_cost\\u003cbr\\u003eindex=%{x}\\u003cbr\\u003evalue=%{y}\\u003cextra\\u003e\\u003c\\u002fextra\\u003e\",\"legendgroup\":\"cum_tx_cost\",\"line\":{\"dash\":\"solid\"},\"marker\":{\"symbol\":\"circle\"},\"mode\":\"lines\",\"name\":\"cum_tx_cost\",\"showlegend\":true,\"x\":[0,1,2,3,4,5,6,7,8,9,10,11,12,13,14,15,16,17,18,19,20,21,22,23,24,25,26,27,28,29,30,31,32,33,34,35,36,37,38,39,40,41,42,43,44,45,46,47,48,49,50,51,52,53,54,55,56,57,58,59,60,61,62,63,64,65,66,67,68,69,70,71,72,73,74,75,76,77,78,79,80,81,82,83,84,85,86,87,88,89,90,91,92,93,94,95,96,97,98,99,100,101,102,103,104,105,106,107,108,109,110,111,112,113,114,115,116,117,118,119,120,121,122,123,124,125,126,127,128,129,130,131,132,133,134,135,136,137,138,139,140,141,142,143,144,145,146,147,148,149,150,151,152,153,154,155,156,157,158,159,160,161,162,163,164,165,166,167,168,169,170,171,172,173,174,175,176,177,178],\"xaxis\":\"x\",\"y\":[0.001,0.001,0.001,0.001,0.001,0.001,0.001,0.001,0.001,0.001,0.001,0.001,0.001,0.001,24.017520048603128,24.017520048603128,24.017520048603128,24.017520048603128,24.017520048603128,24.017520048603128,24.017520048603128,24.017520048603128,24.017520048603128,24.017520048603128,24.017520048603128,24.017520048603128,24.017520048603128,41.099812647528495,41.099812647528495,41.099812647528495,41.099812647528495,41.099812647528495,41.099812647528495,41.099812647528495,41.099812647528495,41.099812647528495,41.099812647528495,41.099812647528495,41.099812647528495,41.099812647528495,41.099812647528495,41.099812647528495,41.099812647528495,41.099812647528495,41.099812647528495,41.099812647528495,41.099812647528495,41.099812647528495,41.099812647528495,41.099812647528495,41.099812647528495,41.099812647528495,41.099812647528495,41.099812647528495,41.099812647528495,41.099812647528495,41.099812647528495,41.099812647528495,41.099812647528495,41.099812647528495,41.099812647528495,41.099812647528495,41.099812647528495,41.099812647528495,41.099812647528495,41.099812647528495,41.099812647528495,41.099812647528495,41.099812647528495,41.099812647528495,41.099812647528495,41.099812647528495,41.099812647528495,41.099812647528495,41.099812647528495,70.41845172710218,70.41845172710218,95.01844102058315,124.62808068550767,124.62808068550767,124.62808068550767,143.78625489561384,159.86974081565288,159.86974081565288,159.86974081565288,159.86974081565288,159.86974081565288,159.86974081565288,159.86974081565288,159.86974081565288,159.86974081565288,159.86974081565288,159.86974081565288,159.86974081565288,179.00362500779127,234.67785195417702,386.36499959002674,504.8423428870067,524.0592769763051,524.0592769763051,524.0592769763051,524.0592769763051,524.0592769763051,524.0592769763051,524.0592769763051,524.0592769763051,729.6703167958985,837.8654033360316,942.6915972043132,967.5042974381793,967.5042974381793,1000.7809146547779,1091.9343988806472,1138.4247857020814,1138.4247857020814,1177.624520812249,1177.624520812249,1177.624520812249,1177.624520812249,1177.624520812249,1177.624520812249,1177.624520812249,1177.624520812249,1177.624520812249,1177.624520812249,1177.624520812249,1177.624520812249,1177.624520812249,1177.624520812249,1177.624520812249,1177.624520812249,1177.624520812249,1177.624520812249,1177.624520812249,1177.624520812249,1177.624520812249,1177.624520812249,1177.624520812249,1177.624520812249,1177.624520812249,1177.624520812249,1177.624520812249,1177.624520812249,1177.624520812249,1177.624520812249,1177.624520812249,1177.624520812249,1177.624520812249,1177.624520812249,1177.624520812249,1177.624520812249,1532.8630985452346,1731.9692022182692,1731.9692022182692,1731.9692022182692,1731.9692022182692,1731.9692022182692,1731.9692022182692,1731.9692022182692,1731.9692022182692,1731.9692022182692,1731.9692022182692,1731.9692022182692,1756.9930329034173,1954.4784536088623,1997.1340787336555,1997.1340787336555,1997.1340787336555,1997.1340787336555,1997.1340787336555,1997.1340787336555,1997.1340787336555,1997.1340787336555,1997.1340787336555,1997.1340787336555,1997.1340787336555,1997.1340787336555,1997.1340787336555,1997.1340787336555],\"yaxis\":\"y2\",\"type\":\"scattergl\"}],                        {\"template\":{\"data\":{\"histogram2dcontour\":[{\"type\":\"histogram2dcontour\",\"colorbar\":{\"outlinewidth\":0,\"ticks\":\"\"},\"colorscale\":[[0.0,\"#0d0887\"],[0.1111111111111111,\"#46039f\"],[0.2222222222222222,\"#7201a8\"],[0.3333333333333333,\"#9c179e\"],[0.4444444444444444,\"#bd3786\"],[0.5555555555555556,\"#d8576b\"],[0.6666666666666666,\"#ed7953\"],[0.7777777777777778,\"#fb9f3a\"],[0.8888888888888888,\"#fdca26\"],[1.0,\"#f0f921\"]]}],\"choropleth\":[{\"type\":\"choropleth\",\"colorbar\":{\"outlinewidth\":0,\"ticks\":\"\"}}],\"histogram2d\":[{\"type\":\"histogram2d\",\"colorbar\":{\"outlinewidth\":0,\"ticks\":\"\"},\"colorscale\":[[0.0,\"#0d0887\"],[0.1111111111111111,\"#46039f\"],[0.2222222222222222,\"#7201a8\"],[0.3333333333333333,\"#9c179e\"],[0.4444444444444444,\"#bd3786\"],[0.5555555555555556,\"#d8576b\"],[0.6666666666666666,\"#ed7953\"],[0.7777777777777778,\"#fb9f3a\"],[0.8888888888888888,\"#fdca26\"],[1.0,\"#f0f921\"]]}],\"heatmap\":[{\"type\":\"heatmap\",\"colorbar\":{\"outlinewidth\":0,\"ticks\":\"\"},\"colorscale\":[[0.0,\"#0d0887\"],[0.1111111111111111,\"#46039f\"],[0.2222222222222222,\"#7201a8\"],[0.3333333333333333,\"#9c179e\"],[0.4444444444444444,\"#bd3786\"],[0.5555555555555556,\"#d8576b\"],[0.6666666666666666,\"#ed7953\"],[0.7777777777777778,\"#fb9f3a\"],[0.8888888888888888,\"#fdca26\"],[1.0,\"#f0f921\"]]}],\"heatmapgl\":[{\"type\":\"heatmapgl\",\"colorbar\":{\"outlinewidth\":0,\"ticks\":\"\"},\"colorscale\":[[0.0,\"#0d0887\"],[0.1111111111111111,\"#46039f\"],[0.2222222222222222,\"#7201a8\"],[0.3333333333333333,\"#9c179e\"],[0.4444444444444444,\"#bd3786\"],[0.5555555555555556,\"#d8576b\"],[0.6666666666666666,\"#ed7953\"],[0.7777777777777778,\"#fb9f3a\"],[0.8888888888888888,\"#fdca26\"],[1.0,\"#f0f921\"]]}],\"contourcarpet\":[{\"type\":\"contourcarpet\",\"colorbar\":{\"outlinewidth\":0,\"ticks\":\"\"}}],\"contour\":[{\"type\":\"contour\",\"colorbar\":{\"outlinewidth\":0,\"ticks\":\"\"},\"colorscale\":[[0.0,\"#0d0887\"],[0.1111111111111111,\"#46039f\"],[0.2222222222222222,\"#7201a8\"],[0.3333333333333333,\"#9c179e\"],[0.4444444444444444,\"#bd3786\"],[0.5555555555555556,\"#d8576b\"],[0.6666666666666666,\"#ed7953\"],[0.7777777777777778,\"#fb9f3a\"],[0.8888888888888888,\"#fdca26\"],[1.0,\"#f0f921\"]]}],\"surface\":[{\"type\":\"surface\",\"colorbar\":{\"outlinewidth\":0,\"ticks\":\"\"},\"colorscale\":[[0.0,\"#0d0887\"],[0.1111111111111111,\"#46039f\"],[0.2222222222222222,\"#7201a8\"],[0.3333333333333333,\"#9c179e\"],[0.4444444444444444,\"#bd3786\"],[0.5555555555555556,\"#d8576b\"],[0.6666666666666666,\"#ed7953\"],[0.7777777777777778,\"#fb9f3a\"],[0.8888888888888888,\"#fdca26\"],[1.0,\"#f0f921\"]]}],\"mesh3d\":[{\"type\":\"mesh3d\",\"colorbar\":{\"outlinewidth\":0,\"ticks\":\"\"}}],\"scatter\":[{\"fillpattern\":{\"fillmode\":\"overlay\",\"size\":10,\"solidity\":0.2},\"type\":\"scatter\"}],\"parcoords\":[{\"type\":\"parcoords\",\"line\":{\"colorbar\":{\"outlinewidth\":0,\"ticks\":\"\"}}}],\"scatterpolargl\":[{\"type\":\"scatterpolargl\",\"marker\":{\"colorbar\":{\"outlinewidth\":0,\"ticks\":\"\"}}}],\"bar\":[{\"error_x\":{\"color\":\"#2a3f5f\"},\"error_y\":{\"color\":\"#2a3f5f\"},\"marker\":{\"line\":{\"color\":\"#E5ECF6\",\"width\":0.5},\"pattern\":{\"fillmode\":\"overlay\",\"size\":10,\"solidity\":0.2}},\"type\":\"bar\"}],\"scattergeo\":[{\"type\":\"scattergeo\",\"marker\":{\"colorbar\":{\"outlinewidth\":0,\"ticks\":\"\"}}}],\"scatterpolar\":[{\"type\":\"scatterpolar\",\"marker\":{\"colorbar\":{\"outlinewidth\":0,\"ticks\":\"\"}}}],\"histogram\":[{\"marker\":{\"pattern\":{\"fillmode\":\"overlay\",\"size\":10,\"solidity\":0.2}},\"type\":\"histogram\"}],\"scattergl\":[{\"type\":\"scattergl\",\"marker\":{\"colorbar\":{\"outlinewidth\":0,\"ticks\":\"\"}}}],\"scatter3d\":[{\"type\":\"scatter3d\",\"line\":{\"colorbar\":{\"outlinewidth\":0,\"ticks\":\"\"}},\"marker\":{\"colorbar\":{\"outlinewidth\":0,\"ticks\":\"\"}}}],\"scattermapbox\":[{\"type\":\"scattermapbox\",\"marker\":{\"colorbar\":{\"outlinewidth\":0,\"ticks\":\"\"}}}],\"scatterternary\":[{\"type\":\"scatterternary\",\"marker\":{\"colorbar\":{\"outlinewidth\":0,\"ticks\":\"\"}}}],\"scattercarpet\":[{\"type\":\"scattercarpet\",\"marker\":{\"colorbar\":{\"outlinewidth\":0,\"ticks\":\"\"}}}],\"carpet\":[{\"aaxis\":{\"endlinecolor\":\"#2a3f5f\",\"gridcolor\":\"white\",\"linecolor\":\"white\",\"minorgridcolor\":\"white\",\"startlinecolor\":\"#2a3f5f\"},\"baxis\":{\"endlinecolor\":\"#2a3f5f\",\"gridcolor\":\"white\",\"linecolor\":\"white\",\"minorgridcolor\":\"white\",\"startlinecolor\":\"#2a3f5f\"},\"type\":\"carpet\"}],\"table\":[{\"cells\":{\"fill\":{\"color\":\"#EBF0F8\"},\"line\":{\"color\":\"white\"}},\"header\":{\"fill\":{\"color\":\"#C8D4E3\"},\"line\":{\"color\":\"white\"}},\"type\":\"table\"}],\"barpolar\":[{\"marker\":{\"line\":{\"color\":\"#E5ECF6\",\"width\":0.5},\"pattern\":{\"fillmode\":\"overlay\",\"size\":10,\"solidity\":0.2}},\"type\":\"barpolar\"}],\"pie\":[{\"automargin\":true,\"type\":\"pie\"}]},\"layout\":{\"autotypenumbers\":\"strict\",\"colorway\":[\"#636efa\",\"#EF553B\",\"#00cc96\",\"#ab63fa\",\"#FFA15A\",\"#19d3f3\",\"#FF6692\",\"#B6E880\",\"#FF97FF\",\"#FECB52\"],\"font\":{\"color\":\"#2a3f5f\"},\"hovermode\":\"closest\",\"hoverlabel\":{\"align\":\"left\"},\"paper_bgcolor\":\"white\",\"plot_bgcolor\":\"#E5ECF6\",\"polar\":{\"bgcolor\":\"#E5ECF6\",\"angularaxis\":{\"gridcolor\":\"white\",\"linecolor\":\"white\",\"ticks\":\"\"},\"radialaxis\":{\"gridcolor\":\"white\",\"linecolor\":\"white\",\"ticks\":\"\"}},\"ternary\":{\"bgcolor\":\"#E5ECF6\",\"aaxis\":{\"gridcolor\":\"white\",\"linecolor\":\"white\",\"ticks\":\"\"},\"baxis\":{\"gridcolor\":\"white\",\"linecolor\":\"white\",\"ticks\":\"\"},\"caxis\":{\"gridcolor\":\"white\",\"linecolor\":\"white\",\"ticks\":\"\"}},\"coloraxis\":{\"colorbar\":{\"outlinewidth\":0,\"ticks\":\"\"}},\"colorscale\":{\"sequential\":[[0.0,\"#0d0887\"],[0.1111111111111111,\"#46039f\"],[0.2222222222222222,\"#7201a8\"],[0.3333333333333333,\"#9c179e\"],[0.4444444444444444,\"#bd3786\"],[0.5555555555555556,\"#d8576b\"],[0.6666666666666666,\"#ed7953\"],[0.7777777777777778,\"#fb9f3a\"],[0.8888888888888888,\"#fdca26\"],[1.0,\"#f0f921\"]],\"sequentialminus\":[[0.0,\"#0d0887\"],[0.1111111111111111,\"#46039f\"],[0.2222222222222222,\"#7201a8\"],[0.3333333333333333,\"#9c179e\"],[0.4444444444444444,\"#bd3786\"],[0.5555555555555556,\"#d8576b\"],[0.6666666666666666,\"#ed7953\"],[0.7777777777777778,\"#fb9f3a\"],[0.8888888888888888,\"#fdca26\"],[1.0,\"#f0f921\"]],\"diverging\":[[0,\"#8e0152\"],[0.1,\"#c51b7d\"],[0.2,\"#de77ae\"],[0.3,\"#f1b6da\"],[0.4,\"#fde0ef\"],[0.5,\"#f7f7f7\"],[0.6,\"#e6f5d0\"],[0.7,\"#b8e186\"],[0.8,\"#7fbc41\"],[0.9,\"#4d9221\"],[1,\"#276419\"]]},\"xaxis\":{\"gridcolor\":\"white\",\"linecolor\":\"white\",\"ticks\":\"\",\"title\":{\"standoff\":15},\"zerolinecolor\":\"white\",\"automargin\":true,\"zerolinewidth\":2},\"yaxis\":{\"gridcolor\":\"white\",\"linecolor\":\"white\",\"ticks\":\"\",\"title\":{\"standoff\":15},\"zerolinecolor\":\"white\",\"automargin\":true,\"zerolinewidth\":2},\"scene\":{\"xaxis\":{\"backgroundcolor\":\"#E5ECF6\",\"gridcolor\":\"white\",\"linecolor\":\"white\",\"showbackground\":true,\"ticks\":\"\",\"zerolinecolor\":\"white\",\"gridwidth\":2},\"yaxis\":{\"backgroundcolor\":\"#E5ECF6\",\"gridcolor\":\"white\",\"linecolor\":\"white\",\"showbackground\":true,\"ticks\":\"\",\"zerolinecolor\":\"white\",\"gridwidth\":2},\"zaxis\":{\"backgroundcolor\":\"#E5ECF6\",\"gridcolor\":\"white\",\"linecolor\":\"white\",\"showbackground\":true,\"ticks\":\"\",\"zerolinecolor\":\"white\",\"gridwidth\":2}},\"shapedefaults\":{\"line\":{\"color\":\"#2a3f5f\"}},\"annotationdefaults\":{\"arrowcolor\":\"#2a3f5f\",\"arrowhead\":0,\"arrowwidth\":1},\"geo\":{\"bgcolor\":\"white\",\"landcolor\":\"#E5ECF6\",\"subunitcolor\":\"white\",\"showland\":true,\"showlakes\":true,\"lakecolor\":\"white\"},\"title\":{\"x\":0.05},\"mapbox\":{\"style\":\"light\"}}},\"xaxis\":{\"anchor\":\"y\",\"domain\":[0.0,0.94],\"title\":{\"text\":\"time\"}},\"yaxis\":{\"anchor\":\"x\",\"domain\":[0.0,1.0],\"title\":{\"text\":\"7d_perf\"}},\"yaxis2\":{\"anchor\":\"x\",\"overlaying\":\"y\",\"side\":\"right\",\"title\":{\"text\":\"cum_tx_cost\"}}},                        {\"responsive\": true}                    ).then(function(){\n",
       "                            \n",
       "var gd = document.getElementById('ed287bdc-9373-4dde-8c45-f95366f18c5f');\n",
       "var x = new MutationObserver(function (mutations, observer) {{\n",
       "        var display = window.getComputedStyle(gd).display;\n",
       "        if (!display || display === 'none') {{\n",
       "            console.log([gd, 'removed!']);\n",
       "            Plotly.purge(gd);\n",
       "            observer.disconnect();\n",
       "        }}\n",
       "}});\n",
       "\n",
       "// Listen for the removal of the full notebook cells\n",
       "var notebookContainer = gd.closest('#notebook-container');\n",
       "if (notebookContainer) {{\n",
       "    x.observe(notebookContainer, {childList: true});\n",
       "}}\n",
       "\n",
       "// Listen for the clearing of the current output cell\n",
       "var outputEl = gd.closest('.output');\n",
       "if (outputEl) {{\n",
       "    x.observe(outputEl, {childList: true});\n",
       "}}\n",
       "\n",
       "                        })                };                });            </script>        </div>"
      ]
     },
     "metadata": {},
     "output_type": "display_data"
    },
    {
     "name": "stdout",
     "output_type": "stream",
     "text": [
      "C:/Users/david/singularity/midfreq/logs/0.3_10d_True_0.001_40_30_0.1_0.8__backtest.csv\n"
     ]
    }
   ],
   "source": [
    "conditions = {\n",
    "    'cap': 0.3,\n",
    "    'halflife': \"10d\",\n",
    "    'cost_blind_optimization': True,\n",
    "    'cost': 1e-3,\n",
    "    'gaz': 40,\n",
    "    'assumed_holding_days': 30,\n",
    "    'base_buffer': 0.1,\n",
    "    'concentration_limit': 0.8,\n",
    "}\n",
    "filename = \"C:/Users/david/singularity/midfreq/logs/{}_{}_{}_{}_{}_{}_{}_{}__backtest.csv\".format(*conditions.values())\n",
    "backtest = pd.read_csv(filename)\n",
    "\n",
    "backtest['tx_cost'].iloc[0] = 0.001\n",
    "cum_tx_cost = backtest[\"tx_cost\"].cumsum()\n",
    "cum_tx_cost.name = 'cum_tx_cost'\n",
    "apy_7d = (backtest[['wealth']] / backtest[['wealth']].shift(7) -1)*365/7*100\n",
    "\n",
    "subfig = make_subplots(specs=[[{\"secondary_y\": True}]])\n",
    "\n",
    "# create two independent figures with px.line each containing data from multiple columns\n",
    "fig = px.line(apy_7d,render_mode=\"webgl\",)\n",
    "fig2 = px.line(cum_tx_cost, render_mode=\"webgl\",)\n",
    "fig2.update_traces(yaxis=\"y2\")\n",
    "subfig.add_traces(fig.data + fig2.data)\n",
    "subfig.layout.xaxis.title = \"time\"\n",
    "subfig.layout.yaxis.title = \"7d_perf\"\n",
    "subfig.layout.yaxis2.title = \"cum_tx_cost\"\n",
    "\n",
    "# recoloring is necessary otherwise lines from fig und fig2 would share each color\n",
    "# e.g. Linear-, Log- = blue; Linear+, Log+ = red... we don't want this\n",
    "subfig.for_each_trace(lambda t: t.update(line=dict(color=t.marker.color)))\n",
    "subfig.show()\n",
    "\n",
    "print(filename)"
   ]
  },
  {
   "cell_type": "markdown",
   "id": "2e7137b6",
   "metadata": {},
   "source": [
    "# heatmaps"
   ]
  },
  {
   "cell_type": "code",
   "execution_count": 5,
   "id": "5e11b1df",
   "metadata": {},
   "outputs": [
    {
     "name": "stdout",
     "output_type": "stream",
     "text": [
      "Index(['cap', 'haflife', 'swap_cost', 'gaz', 'assumed_holding_days',\n",
      "       'base_buffer', 'concentration_limit', 'perf', 'tx_cost', 'avg_entropy'],\n",
      "      dtype='object')\n"
     ]
    }
   ],
   "source": [
    "grid = pd.read_csv(\"C:/Users/david/singularity/midfreq/logs/grid.csv\", index_col=0)\n",
    "grid['tx_cost'].iloc[0] = 0.001\n",
    "grid = grid.rename(columns={'cost': 'swap_cost'})\n",
    "all_index = {col: grid[col].unique() for col in grid.columns}\n",
    "print(grid.columns)\n",
    "\n",
    "grid['churn in d'] = grid.apply(lambda x: 2 * 365 * x['swap_cost']/x['tx_cost']/100, axis=1)\n",
    "\n",
    "format_dict = {key: (lambda x: x) for key in grid.columns}\n",
    "format_dict['perf'] = lambda x: f'{x:.1%}'\n",
    "format_dict['tx_cost'] = lambda x : f'{x:.0f}'\n",
    "format_dict['avg_entropy'] = lambda x: f'{x:.0%}'\n",
    "\n",
    "def display_heatmap(metrics, ind, col):\n",
    "    fig = plt.figure(figsize = (20,20)) # width x height\n",
    "    for i, values in enumerate(metrics):\n",
    "        for j, column in enumerate(col):\n",
    "            df = grid.pivot_table(values=values, index=ind, columns=col)*100\n",
    "            ax = fig.add_subplot(len(col), len(metrics), i+j+1)\n",
    "            ax.set_title(f'{values} by {column}')\n",
    "            sns.heatmap(data=df, ax=ax, square=True, cbar_kws={'shrink': .3}, annot=True, annot_kws={'fontsize': 12})"
   ]
  },
  {
   "cell_type": "markdown",
   "id": "b433799b",
   "metadata": {},
   "source": [
    "## cost x cost_blind_optimization"
   ]
  },
  {
   "cell_type": "code",
   "execution_count": 6,
   "id": "50954965",
   "metadata": {
    "scrolled": true
   },
   "outputs": [
    {
     "data": {
      "image/png": "[encoded data removed]",
      "text/plain": [
       "<Figure size 2000x2000 with 4 Axes>"
      ]
     },
     "metadata": {},
     "output_type": "display_data"
    }
   ],
   "source": [
    "metrics = ['perf', 'churn in d']\n",
    "ind = ['swap_cost']\n",
    "col = ['assumed_holding_days']\n",
    "display_heatmap(metrics, ind, col)"
   ]
  },
  {
   "cell_type": "markdown",
   "id": "8967bcd6",
   "metadata": {},
   "source": [
    "## cost x cost_blind_optimization"
   ]
  },
  {
   "cell_type": "code",
   "execution_count": 7,
   "id": "e2e21308",
   "metadata": {
    "scrolled": true
   },
   "outputs": [
    {
     "data": {
      "image/png": "[encoded data removed]",
      "text/plain": [
       "<Figure size 2000x2000 with 4 Axes>"
      ]
     },
     "metadata": {},
     "output_type": "display_data"
    }
   ],
   "source": [
    "metrics = ['perf', 'avg_entropy']\n",
    "ind = ['concentration_limit']\n",
    "col = ['assumed_holding_days']\n",
    "display_heatmap(metrics, ind, col)"
   ]
  },
  {
   "cell_type": "code",
   "execution_count": null,
   "id": "33044241",
   "metadata": {},
   "outputs": [],
   "source": []
  },
  {
   "cell_type": "code",
   "execution_count": null,
   "id": "a8876bd0",
   "metadata": {},
   "outputs": [],
   "source": []
  }
 ],
 "metadata": {
  "kernelspec": {
   "display_name": "midfreq",
   "language": "python",
   "name": "midfreq"
  },
  "language_info": {
   "codemirror_mode": {
    "name": "ipython",
    "version": 3
   },
   "file_extension": ".py",
   "mimetype": "text/x-python",
   "name": "python",
   "nbconvert_exporter": "python",
   "pygments_lexer": "ipython3",
   "version": "3.9.5"
  }
 },
 "nbformat": 4,
 "nbformat_minor": 5
}
