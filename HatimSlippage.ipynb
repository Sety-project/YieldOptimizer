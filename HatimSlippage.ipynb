{
 "cells": [
  {
   "cell_type": "code",
   "execution_count": 1,
   "id": "78f5a21f",
   "metadata": {},
   "outputs": [],
   "source": [
    "import os\n",
    "import json\n",
    "import numpy as np\n",
    "import pandas as pd"
   ]
  },
  {
   "cell_type": "code",
   "execution_count": 2,
   "id": "9e2b7f3b",
   "metadata": {},
   "outputs": [
    {
     "data": {
      "text/html": [
       "        <script type=\"text/javascript\">\n",
       "        window.PlotlyConfig = {MathJaxConfig: 'local'};\n",
       "        if (window.MathJax && window.MathJax.Hub && window.MathJax.Hub.Config) {window.MathJax.Hub.Config({SVG: {font: \"STIX-Web\"}});}\n",
       "        if (typeof require !== 'undefined') {\n",
       "        require.undef(\"plotly\");\n",
       "        requirejs.config({\n",
       "            paths: {\n",
       "                'plotly': ['https://cdn.plot.ly/plotly-2.25.2.min']\n",
       "            }\n",
       "        });\n",
       "        require(['plotly'], function(Plotly) {\n",
       "            window._Plotly = Plotly;\n",
       "        });\n",
       "        }\n",
       "        </script>\n",
       "        "
      ]
     },
     "metadata": {},
     "output_type": "display_data"
    }
   ],
   "source": [
    "import seaborn as sns\n",
    "import matplotlib.pyplot as plt\n",
    "%matplotlib inline\n",
    "import plotly.express as px\n",
    "from plotly.subplots import make_subplots\n",
    "import cufflinks as cf\n",
    "cf.go_offline()\n",
    "cf.set_config_file(offline=False, world_readable=True)"
   ]
  },
  {
   "cell_type": "code",
   "execution_count": 3,
   "id": "bf511d40",
   "metadata": {
    "scrolled": true
   },
   "outputs": [],
   "source": [
    "dirname = f\"C:/Users/david/singularity/midfreq/data/HatimSlippage\"\n",
    "pools = dict()\n",
    "for filename in os.listdir(dirname):\n",
    "    if '-pools.json' in filename:\n",
    "        poolname = filename.split('-pools.json')[0]\n",
    "        fullname = os.path.join(os.sep, dirname, filename)\n",
    "        with open(fullname) as file:\n",
    "            content = json.load(file)\n",
    "            d = [{'timestamp':pd.to_datetime(int(timestamp), unit='s')} \n",
    "                 | data[0]['slippages']\n",
    "                 | {'reserve0': data[0]['token0']['reserveUSDC'], 'reserve1': data[0]['token1']['reserveUSDC']}\n",
    "                 | {'px0': data[0]['token0']['assetPriceUSDC'], 'px1': data[0]['token1']['assetPriceUSDC']}\n",
    "                 for timestamp, data in content.items()]\n",
    "            pools[poolname] = pd.DataFrame(d).set_index('timestamp')\n",
    "df = pd.concat(pools, axis=1)"
   ]
  },
  {
   "cell_type": "markdown",
   "id": "56213e28",
   "metadata": {},
   "source": [
    "## slippage vs reserves"
   ]
  },
  {
   "cell_type": "code",
   "execution_count": 4,
   "id": "f498848a",
   "metadata": {},
   "outputs": [
    {
     "ename": "NameError",
     "evalue": "name 'imbalance' is not defined",
     "output_type": "error",
     "traceback": [
      "\u001b[1;31m---------------------------------------------------------------------------\u001b[0m",
      "\u001b[1;31mNameError\u001b[0m                                 Traceback (most recent call last)",
      "\u001b[1;32m~\\AppData\\Local\\Temp\\ipykernel_33812\\2808523651.py\u001b[0m in \u001b[0;36m<cell line: 6>\u001b[1;34m()\u001b[0m\n\u001b[0;32m      4\u001b[0m \u001b[1;32mimport\u001b[0m \u001b[0mnumpy\u001b[0m \u001b[1;32mas\u001b[0m \u001b[0mnp\u001b[0m\u001b[1;33m\u001b[0m\u001b[1;33m\u001b[0m\u001b[0m\n\u001b[0;32m      5\u001b[0m \u001b[1;33m\u001b[0m\u001b[0m\n\u001b[1;32m----> 6\u001b[1;33m \u001b[1;32mfor\u001b[0m \u001b[0mi\u001b[0m\u001b[1;33m,\u001b[0m \u001b[0mcol\u001b[0m \u001b[1;32min\u001b[0m \u001b[0menumerate\u001b[0m\u001b[1;33m(\u001b[0m\u001b[0mimbalance\u001b[0m\u001b[1;33m.\u001b[0m\u001b[0mcolumns\u001b[0m\u001b[1;33m)\u001b[0m\u001b[1;33m:\u001b[0m\u001b[1;33m\u001b[0m\u001b[1;33m\u001b[0m\u001b[0m\n\u001b[0m\u001b[0;32m      7\u001b[0m     \u001b[0mtoken0\u001b[0m\u001b[1;33m,\u001b[0m \u001b[0mtoken1\u001b[0m \u001b[1;33m=\u001b[0m \u001b[0mcol\u001b[0m\u001b[1;33m[\u001b[0m\u001b[1;33m:\u001b[0m\u001b[1;36m3\u001b[0m\u001b[1;33m]\u001b[0m\u001b[1;33m,\u001b[0m \u001b[0mcol\u001b[0m\u001b[1;33m[\u001b[0m\u001b[1;36m3\u001b[0m\u001b[1;33m:\u001b[0m\u001b[1;33m]\u001b[0m\u001b[1;33m\u001b[0m\u001b[1;33m\u001b[0m\u001b[0m\n\u001b[0;32m      8\u001b[0m     \u001b[1;31m# Create two independent figures with px.line each containing data from multiple columns\u001b[0m\u001b[1;33m\u001b[0m\u001b[1;33m\u001b[0m\u001b[1;33m\u001b[0m\u001b[0m\n",
      "\u001b[1;31mNameError\u001b[0m: name 'imbalance' is not defined"
     ]
    }
   ],
   "source": [
    "import plotly.express as px\n",
    "from plotly.subplots import make_subplots\n",
    "import pandas as pd\n",
    "import numpy as np\n",
    "\n",
    "for i, col in enumerate(imbalance.columns):\n",
    "    token0, token1 = col[:3], col[3:]\n",
    "    # Create two independent figures with px.line each containing data from multiple columns\n",
    "    combined = pd.concat([df.xs(key='reserve0', level=1, axis=1)[col]+df.xs(key='reserve1', level=1, axis=1)[col],\n",
    "                          (df.xs(key='reserve0', level=1, axis=1)[col]/df.xs(key='reserve1', level=1, axis=1)[col]-1).apply(np.abs),\n",
    "                          df.xs(key='slippage_100k', level=1, axis=1)[col].apply(np.log10)], axis=1, keys=['sum', 'imbalance', 'slippage_100k'])\n",
    "    fig = px.scatter(combined, x='sum', y='imbalance', color='slippage_100k', title=col)\n",
    "\n",
    "    fig.show()\n",
    "\n",
    "# # Update the y-axis of fig2 to be secondary\n",
    "# fig2.update_traces(yaxis=\"y2\")\n",
    "\n",
    "# # Add traces from fig and fig2 to subfig\n",
    "# subfig.add_traces(fig.data + fig2.data)\n",
    "\n",
    "# # Update layout and axis titles\n",
    "# subfig.layout.xaxis.title = \"Time\"\n",
    "# subfig.layout.yaxis.title = \"imbalance\"\n",
    "# subfig.layout.yaxis2.type = \"log\"\n",
    "# subfig.layout.yaxis2.title = \"only100k\"\n",
    "\n",
    "# # Recolor lines so they don't share colors between fig and fig2\n",
    "# subfig.for_each_trace(lambda t: t.update(line=dict(color=t.marker.color)))\n",
    "\n",
    "# # Show the figure\n",
    "# subfig.show()\n"
   ]
  },
  {
   "cell_type": "markdown",
   "id": "1c52b106",
   "metadata": {},
   "source": [
    "## reserve and slippage history"
   ]
  },
  {
   "cell_type": "code",
   "execution_count": null,
   "id": "17875432",
   "metadata": {},
   "outputs": [],
   "source": [
    "import plotly.express as px\n",
    "import plotly.graph_objects as go\n",
    "from plotly.subplots import make_subplots\n",
    "import pandas as pd\n",
    "import numpy as np\n",
    "\n",
    "for i, col in enumerate(imbalance.columns):\n",
    "    token0, token1 = col[:3], col[3:]\n",
    "    # Create two independent figures with px.line each containing data from multiple columns\n",
    "    combined = pd.concat([df.xs(key='reserve0', level=1, axis=1)[col],\n",
    "                          df.xs(key='reserve1', level=1, axis=1)[col],\n",
    "                          -df.xs(key='slippage_100k', level=1, axis=1)[col].apply(np.log10)], axis=1, keys=[token0, token1, 'slippage_100k'])\n",
    "    fig = make_subplots(specs=[[{\"secondary_y\": True}]])\n",
    "    fig.add_trace(go.Line(x=combined.index, y=combined[token0], name=token0), secondary_y=False)\n",
    "    fig.add_trace(go.Line(x=combined.index, y=combined[token1], name=token1), secondary_y=False)\n",
    "    fig.add_trace(go.Line(x=combined.index, y=combined['slippage_100k'], name='slippage_100k'), secondary_y=True)\n",
    "\n",
    "    fig.show()"
   ]
  },
  {
   "cell_type": "markdown",
   "id": "09b134aa",
   "metadata": {},
   "source": [
    "## px and slippage history"
   ]
  },
  {
   "cell_type": "code",
   "execution_count": null,
   "id": "b869c471",
   "metadata": {},
   "outputs": [],
   "source": [
    "import plotly.express as px\n",
    "import plotly.graph_objects as go\n",
    "from plotly.subplots import make_subplots\n",
    "import pandas as pd\n",
    "import numpy as np\n",
    "\n",
    "for i, col in enumerate(imbalance.columns):\n",
    "    token0, token1 = col[:3], col[3:]\n",
    "    # Create two independent figures with px.line each containing data from multiple columns\n",
    "    combined = pd.concat([df.xs(key='px1', level=1, axis=1)[col]/df.xs(key='px0', level=1, axis=1)[col],\n",
    "                          -df.xs(key='slippage_100k', level=1, axis=1)[col].apply(np.log10)], axis=1, keys=['px', 'slippage_100k'])\n",
    "    fig = make_subplots(specs=[[{\"secondary_y\": True}]])\n",
    "    fig.add_trace(go.Line(x=combined.index, y=combined['px'], name=token1), secondary_y=False)\n",
    "    fig.add_trace(go.Line(x=combined.index, y=combined['slippage_100k'], name='slippage_100k'), secondary_y=True)\n",
    "\n",
    "    fig.show()"
   ]
  },
  {
   "cell_type": "code",
   "execution_count": null,
   "id": "f0fbff4e",
   "metadata": {},
   "outputs": [],
   "source": []
  },
  {
   "cell_type": "code",
   "execution_count": null,
   "id": "31d1e8ee",
   "metadata": {},
   "outputs": [],
   "source": []
  },
  {
   "cell_type": "code",
   "execution_count": null,
   "id": "9c38f8d2",
   "metadata": {},
   "outputs": [],
   "source": []
  }
 ],
 "metadata": {
  "kernelspec": {
   "display_name": "midfreq",
   "language": "python",
   "name": "midfreq"
  },
  "language_info": {
   "codemirror_mode": {
    "name": "ipython",
    "version": 3
   },
   "file_extension": ".py",
   "mimetype": "text/x-python",
   "name": "python",
   "nbconvert_exporter": "python",
   "pygments_lexer": "ipython3",
   "version": "3.9.5"
  }
 },
 "nbformat": 4,
 "nbformat_minor": 5
}
